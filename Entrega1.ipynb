{
 "cells": [
  {
   "cell_type": "markdown",
   "metadata": {},
   "source": [
    "Escreva um programa em Python que calcule o IMC (Índice de Massa Corporal) de uma pessoa. O programa deve solicitar ao usuário o peso em kg e a altura em metros, e em seguida, calcular e imprimir o valor do IMC."
   ]
  },
  {
   "cell_type": "code",
   "execution_count": 2,
   "metadata": {},
   "outputs": [
    {
     "name": "stdout",
     "output_type": "stream",
     "text": [
      "Seu IMC é: 39.18\n"
     ]
    }
   ],
   "source": [
    "def calcular_imc():\n",
    "    try:\n",
    "        # Solicita os dados ao usuário\n",
    "        peso = float(input(\"Digite o seu peso em kg: \"))\n",
    "        altura = float(input(\"Digite a sua altura em metros: \"))\n",
    "\n",
    "        # Calcula o IMC\n",
    "        imc = peso / (altura ** 2)\n",
    "\n",
    "        # Exibe o resultado\n",
    "        print(f\"Seu IMC é: {imc:.2f}\")\n",
    "        \n",
    "    except ValueError:\n",
    "        print(\"Por favor, insira valores válidos para peso e altura.\")\n",
    "\n",
    "# Chama a função para calcular o IMC\n",
    "calcular_imc()\n"
   ]
  },
  {
   "cell_type": "markdown",
   "metadata": {},
   "source": [
    "Faça um programa que crie uma lista vazia e permita que o usuário insira 5 números inteiros na lista."
   ]
  },
  {
   "cell_type": "code",
   "execution_count": 3,
   "metadata": {},
   "outputs": [
    {
     "name": "stdout",
     "output_type": "stream",
     "text": [
      "A lista de números é: [5, 6, 7, 8, 9]\n"
     ]
    }
   ],
   "source": [
    "# Cria uma lista vazia\n",
    "numeros = []\n",
    "\n",
    "# Loop para adicionar 5 números inteiros na lista\n",
    "for i in range(5):\n",
    "    numero = int(input(f\"Digite o número {i+1}: \"))\n",
    "    numeros.append(numero)\n",
    "\n",
    "# Exibe a lista final\n",
    "print(\"A lista de números é:\", numeros)\n"
   ]
  },
  {
   "cell_type": "markdown",
   "metadata": {},
   "source": [
    "Faça um programa que peça ao usuário para digitar uma lista de nomes separados por vírgula e transforme essa lista em uma lista de strings."
   ]
  },
  {
   "cell_type": "code",
   "execution_count": 4,
   "metadata": {},
   "outputs": [
    {
     "name": "stdout",
     "output_type": "stream",
     "text": [
      "Lista de nomes: ['Loan', 'Lucas', 'Michel', 'Augusto', 'Matheus']\n"
     ]
    }
   ],
   "source": [
    "# Solicitar ao usuário para digitar os nomes\n",
    "nomes_input = input(\"Digite os nomes separados por vírgula: \")\n",
    "\n",
    "# Dividir a string usando a vírgula como separador e remover espaços em excesso\n",
    "nomes_lista = [nome.strip() for nome in nomes_input.split(',')]\n",
    "\n",
    "# Exibir a lista de strings\n",
    "print(\"Lista de nomes:\", nomes_lista)\n"
   ]
  }
 ],
 "metadata": {
  "kernelspec": {
   "display_name": "Python 3",
   "language": "python",
   "name": "python3"
  },
  "language_info": {
   "codemirror_mode": {
    "name": "ipython",
    "version": 3
   },
   "file_extension": ".py",
   "mimetype": "text/x-python",
   "name": "python",
   "nbconvert_exporter": "python",
   "pygments_lexer": "ipython3",
   "version": "3.9.13"
  }
 },
 "nbformat": 4,
 "nbformat_minor": 2
}
