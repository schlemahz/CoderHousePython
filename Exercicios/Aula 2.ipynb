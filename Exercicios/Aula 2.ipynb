{
 "cells": [
  {
   "cell_type": "markdown",
   "id": "d824780f-1059-4e50-a60b-d9a8883bd025",
   "metadata": {},
   "source": [
    "# Fundamentos de programação I\n"
   ]
  },
  {
   "cell_type": "markdown",
   "id": "f21a8d94",
   "metadata": {},
   "source": [
    "Varriáveis e funções\n"
   ]
  },
  {
   "cell_type": "code",
   "execution_count": 4,
   "id": "67fca9e1",
   "metadata": {},
   "outputs": [],
   "source": [
    "#Variáveis\n",
    "variavel1='hello word!'\n",
    "variavel2='outro texto'"
   ]
  },
  {
   "cell_type": "code",
   "execution_count": 2,
   "id": "9438d490",
   "metadata": {},
   "outputs": [
    {
     "ename": "NameError",
     "evalue": "name 'variavel' is not defined",
     "output_type": "error",
     "traceback": [
      "\u001b[1;31m---------------------------------------------------------------------------\u001b[0m",
      "\u001b[1;31mNameError\u001b[0m                                 Traceback (most recent call last)",
      "Cell \u001b[1;32mIn[2], line 1\u001b[0m\n\u001b[1;32m----> 1\u001b[0m \u001b[43mvariavel\u001b[49m\n",
      "\u001b[1;31mNameError\u001b[0m: name 'variavel' is not defined"
     ]
    }
   ],
   "source": [
    "variavel = ''\n",
    "Variavel = ''"
   ]
  },
  {
   "cell_type": "code",
   "execution_count": 6,
   "id": "8b2e0b0e",
   "metadata": {},
   "outputs": [
    {
     "name": "stdout",
     "output_type": "stream",
     "text": [
      "hello word!\n"
     ]
    },
    {
     "data": {
      "text/plain": [
       "'hello word!'"
      ]
     },
     "execution_count": 6,
     "metadata": {},
     "output_type": "execute_result"
    }
   ],
   "source": [
    "#Funções iniciais\n",
    "print(variavel1)\n",
    "variavel1"
   ]
  },
  {
   "cell_type": "code",
   "execution_count": 10,
   "id": "dd8cf929",
   "metadata": {},
   "outputs": [
    {
     "data": {
      "text/plain": [
       "'texto'"
      ]
     },
     "execution_count": 10,
     "metadata": {},
     "output_type": "execute_result"
    }
   ],
   "source": [
    "texto=input('digite um texto: ')\n",
    "texto"
   ]
  },
  {
   "cell_type": "code",
   "execution_count": 18,
   "id": "7c0df567",
   "metadata": {},
   "outputs": [
    {
     "data": {
      "text/plain": [
       "str"
      ]
     },
     "execution_count": 18,
     "metadata": {},
     "output_type": "execute_result"
    }
   ],
   "source": [
    "type(texto)"
   ]
  },
  {
   "cell_type": "markdown",
   "id": "dcab1d17-953f-4870-a37c-1bdd56fe773b",
   "metadata": {},
   "source": [
    "Operadores"
   ]
  },
  {
   "cell_type": "code",
   "execution_count": 21,
   "id": "739a1247-3cd6-471b-8072-0cafb622066d",
   "metadata": {},
   "outputs": [
    {
     "data": {
      "text/plain": [
       "3"
      ]
     },
     "execution_count": 21,
     "metadata": {},
     "output_type": "execute_result"
    }
   ],
   "source": [
    "#Adição e Subtração\n",
    "\n",
    "resultado=1+2\n",
    "resultado"
   ]
  },
  {
   "cell_type": "code",
   "execution_count": 26,
   "id": "f3a3bd32",
   "metadata": {},
   "outputs": [
    {
     "name": "stdout",
     "output_type": "stream",
     "text": [
      "1\n"
     ]
    }
   ],
   "source": [
    "a = 1\n",
    "b = 2\n",
    "c = b-a\n",
    "print(c)"
   ]
  },
  {
   "cell_type": "code",
   "execution_count": 22,
   "id": "627366c9-b7ed-43a6-82be-bcbd897a77df",
   "metadata": {},
   "outputs": [
    {
     "data": {
      "text/plain": [
       "6"
      ]
     },
     "execution_count": 22,
     "metadata": {},
     "output_type": "execute_result"
    }
   ],
   "source": [
    "#Multiplicação\n",
    "2*3"
   ]
  },
  {
   "cell_type": "code",
   "execution_count": 27,
   "id": "0cf25e5f-8a61-44ac-a934-9a29f6dbfb83",
   "metadata": {},
   "outputs": [
    {
     "name": "stdout",
     "output_type": "stream",
     "text": [
      "resultado:  2\n",
      "resto:  1\n"
     ]
    }
   ],
   "source": [
    "#Divisão\n",
    "##Inteiros e Resto\n",
    "print('resultado: ',5//2)\n",
    "print('resto: ',5%2)\n"
   ]
  },
  {
   "cell_type": "code",
   "execution_count": 30,
   "id": "4224678d-6457-45fb-b6e7-d92b3d0ef7b9",
   "metadata": {},
   "outputs": [
    {
     "data": {
      "text/plain": [
       "2.5"
      ]
     },
     "execution_count": 30,
     "metadata": {},
     "output_type": "execute_result"
    }
   ],
   "source": [
    "##Exata\n",
    "5/2"
   ]
  },
  {
   "cell_type": "code",
   "execution_count": 31,
   "id": "dcca2734-cb39-42b3-9f93-93f102ad170e",
   "metadata": {},
   "outputs": [
    {
     "data": {
      "text/plain": [
       "8"
      ]
     },
     "execution_count": 31,
     "metadata": {},
     "output_type": "execute_result"
    }
   ],
   "source": [
    "#Potenciação e Radiciação\n",
    "2**3"
   ]
  },
  {
   "cell_type": "code",
   "execution_count": 32,
   "id": "6af95d41",
   "metadata": {},
   "outputs": [
    {
     "data": {
      "text/plain": [
       "2.0"
      ]
     },
     "execution_count": 32,
     "metadata": {},
     "output_type": "execute_result"
    }
   ],
   "source": [
    "4**(1/2)"
   ]
  },
  {
   "cell_type": "code",
   "execution_count": 33,
   "id": "15b14c8c",
   "metadata": {},
   "outputs": [
    {
     "data": {
      "text/plain": [
       "2.0"
      ]
     },
     "execution_count": 33,
     "metadata": {},
     "output_type": "execute_result"
    }
   ],
   "source": [
    "4**0.5"
   ]
  },
  {
   "cell_type": "code",
   "execution_count": 36,
   "id": "f50f1141-9a37-447a-b0b0-cfb9093582a4",
   "metadata": {},
   "outputs": [
    {
     "name": "stdout",
     "output_type": "stream",
     "text": [
      "False\n",
      "True\n"
     ]
    }
   ],
   "source": [
    "#Maior e Menor\n",
    "print(5>10)\n",
    "print(5<10)"
   ]
  },
  {
   "cell_type": "code",
   "execution_count": 37,
   "id": "7486249a-b1b9-4c9f-8caa-5dd8b1f3c6f8",
   "metadata": {},
   "outputs": [
    {
     "name": "stdout",
     "output_type": "stream",
     "text": [
      "True\n",
      "True\n"
     ]
    }
   ],
   "source": [
    "#Maior ou igual e Menor ou igual\n",
    "print(5>=5)\n",
    "print(5<=10)"
   ]
  },
  {
   "cell_type": "code",
   "execution_count": 39,
   "id": "1714c873-b073-40bc-8af0-95a9a0c2bbf4",
   "metadata": {},
   "outputs": [
    {
     "name": "stdout",
     "output_type": "stream",
     "text": [
      "False\n",
      "True\n"
     ]
    }
   ],
   "source": [
    "#Igual ou Diferente\n",
    "print(5==10)\n",
    "print(5!=10)"
   ]
  },
  {
   "cell_type": "markdown",
   "id": "fc03e4f4-d615-47d7-adf2-f97f2c94f5cf",
   "metadata": {},
   "source": [
    "Strings"
   ]
  },
  {
   "cell_type": "code",
   "execution_count": null,
   "id": "2997bc6a-797f-4c76-970a-234d82d4b771",
   "metadata": {},
   "outputs": [],
   "source": [
    "#Textos\n",
    "'texto completo'"
   ]
  },
  {
   "cell_type": "code",
   "execution_count": null,
   "id": "d8b322c2-94e7-427f-a991-2ed24b568d3a",
   "metadata": {},
   "outputs": [],
   "source": [
    "#Sinais\n",
    "'texto com sinais! :]'"
   ]
  },
  {
   "cell_type": "code",
   "execution_count": null,
   "id": "0e2ad158-e8db-4268-8cb7-a8264a3cbcc1",
   "metadata": {},
   "outputs": [],
   "source": [
    "#Números\n",
    "'texto com numeros de 1 a 10000000000000 (infinito)'"
   ]
  },
  {
   "cell_type": "code",
   "execution_count": null,
   "id": "c735a231",
   "metadata": {},
   "outputs": [],
   "source": [
    "'2024'\n",
    "'01/10/2024'"
   ]
  },
  {
   "cell_type": "code",
   "execution_count": 45,
   "id": "d11875ec",
   "metadata": {},
   "outputs": [
    {
     "data": {
      "text/plain": [
       "str"
      ]
     },
     "execution_count": 45,
     "metadata": {},
     "output_type": "execute_result"
    }
   ],
   "source": [
    "type(\"texto\")\n",
    "type('texto')"
   ]
  },
  {
   "cell_type": "code",
   "execution_count": 48,
   "id": "ba78b136",
   "metadata": {},
   "outputs": [
    {
     "name": "stdout",
     "output_type": "stream",
     "text": [
      "este texto é \"legal\"\n",
      "este texto é 'legal'\n"
     ]
    }
   ],
   "source": [
    "print('este texto é \"legal\"')\n",
    "print(\"este texto é 'legal'\")\n",
    "print('este texto é 'legal'')"
   ]
  },
  {
   "cell_type": "code",
   "execution_count": 50,
   "id": "4248c0f7-8e0b-4630-a898-9c8b3b9e0b01",
   "metadata": {},
   "outputs": [
    {
     "name": "stdout",
     "output_type": "stream",
     "text": [
      "oi\n",
      "tudo bem?\n"
     ]
    }
   ],
   "source": [
    "##observação (erros)\n",
    "print('oi\\ntudo bem?')"
   ]
  },
  {
   "cell_type": "code",
   "execution_count": 54,
   "id": "cddc8e8a-fe28-41c5-bf63-aa577854862e",
   "metadata": {},
   "outputs": [
    {
     "name": "stdout",
     "output_type": "stream",
     "text": [
      "oi blz?\n"
     ]
    },
    {
     "data": {
      "text/plain": [
       "'oi blz'"
      ]
     },
     "execution_count": 54,
     "metadata": {},
     "output_type": "execute_result"
    }
   ],
   "source": [
    "#Mistos\n",
    "texto1='oi'\n",
    "texto2='blz?'\n",
    "print(texto1+' '+texto2)\n",
    "'oi'+' '+'blz'"
   ]
  },
  {
   "cell_type": "markdown",
   "id": "7e5666d8-50f4-46b3-998a-d6ee9cb4b009",
   "metadata": {},
   "source": [
    "Manipulação de strings"
   ]
  },
  {
   "cell_type": "code",
   "execution_count": 57,
   "id": "4b572334",
   "metadata": {},
   "outputs": [],
   "source": [
    "nome=input('Digite seu nome: ')\n",
    "idade=input('Digite a sua idade: ')\n"
   ]
  },
  {
   "cell_type": "code",
   "execution_count": 58,
   "id": "ee921e9e",
   "metadata": {},
   "outputs": [
    {
     "name": "stdout",
     "output_type": "stream",
     "text": [
      "Seu nome é gabriel e tem 34 anos\n"
     ]
    }
   ],
   "source": [
    "print('Seu nome é', nome, 'e tem', idade, 'anos')"
   ]
  },
  {
   "cell_type": "code",
   "execution_count": 61,
   "id": "3e754bbe-d946-4d9a-9ebf-fbca2fff3f9f",
   "metadata": {},
   "outputs": [
    {
     "data": {
      "text/plain": [
       "'seu nome é gabriel e tem 34 anos'"
      ]
     },
     "execution_count": 61,
     "metadata": {},
     "output_type": "execute_result"
    }
   ],
   "source": [
    "#f\n",
    "texto=f'seu nome é {nome} e tem {idade} anos'\n",
    "texto"
   ]
  },
  {
   "cell_type": "code",
   "execution_count": 64,
   "id": "3441cf71-9df7-4ac9-a950-3b32e9e4e801",
   "metadata": {},
   "outputs": [
    {
     "data": {
      "text/plain": [
       "'seu nome é gabriel e tem 34 anos'"
      ]
     },
     "execution_count": 64,
     "metadata": {},
     "output_type": "execute_result"
    }
   ],
   "source": [
    "#%s, %i e %f\n",
    "'seu nome é %s e tem %s anos'% (nome, idade)"
   ]
  },
  {
   "cell_type": "code",
   "execution_count": 67,
   "id": "4e4852e7-3070-4985-ba87-efa59d0b3b99",
   "metadata": {},
   "outputs": [
    {
     "data": {
      "text/plain": [
       "'seu nome é 34 e tem gabriel anos'"
      ]
     },
     "execution_count": 67,
     "metadata": {},
     "output_type": "execute_result"
    }
   ],
   "source": [
    "#Format\n",
    "'seu nome é {1} e tem {0} anos'.format(nome, idade)"
   ]
  },
  {
   "cell_type": "code",
   "execution_count": 18,
   "id": "1ce9bc6d-81ce-4952-9c35-8f19d5aeaa40",
   "metadata": {},
   "outputs": [],
   "source": [
    "texto='misture o chocolate até a massa ficar homogênea'"
   ]
  },
  {
   "cell_type": "code",
   "execution_count": 69,
   "id": "f1af5d56-c5ae-41d3-b572-5d6aeffc5412",
   "metadata": {},
   "outputs": [
    {
     "data": {
      "text/plain": [
       "['seu nome é ', ' e tem gabriel anos']"
      ]
     },
     "execution_count": 69,
     "metadata": {},
     "output_type": "execute_result"
    }
   ],
   "source": [
    "#split\n",
    "texto='seu nome é 34 e tem gabriel anos'\n",
    "texto.split('34')"
   ]
  },
  {
   "cell_type": "code",
   "execution_count": 70,
   "id": "b5badb77-e4fb-4ca1-a252-e29d59926b3d",
   "metadata": {},
   "outputs": [
    {
     "data": {
      "text/plain": [
       "'SEU NOME É 34 E TEM GABRIEL ANOS'"
      ]
     },
     "execution_count": 70,
     "metadata": {},
     "output_type": "execute_result"
    }
   ],
   "source": [
    "#upper\n",
    "texto.upper()"
   ]
  },
  {
   "cell_type": "code",
   "execution_count": 71,
   "id": "11d6a267-b115-4a29-a805-21089a5458b5",
   "metadata": {},
   "outputs": [
    {
     "data": {
      "text/plain": [
       "20"
      ]
     },
     "execution_count": 71,
     "metadata": {},
     "output_type": "execute_result"
    }
   ],
   "source": [
    "#find\n",
    "texto.find('gabriel')"
   ]
  },
  {
   "cell_type": "code",
   "execution_count": 73,
   "id": "f16f274d",
   "metadata": {},
   "outputs": [
    {
     "data": {
      "text/plain": [
       "['gabriel', 34, 79.5, True]"
      ]
     },
     "execution_count": 73,
     "metadata": {},
     "output_type": "execute_result"
    }
   ],
   "source": [
    "lista=['gabriel', 34, 79.5, True]\n",
    "lista"
   ]
  },
  {
   "cell_type": "code",
   "execution_count": 84,
   "id": "8ead471e",
   "metadata": {},
   "outputs": [
    {
     "data": {
      "text/plain": [
       "['Augusto', 34, 79.5, True]"
      ]
     },
     "execution_count": 84,
     "metadata": {},
     "output_type": "execute_result"
    }
   ],
   "source": [
    "lista[0]='Augusto'\n",
    "lista"
   ]
  },
  {
   "cell_type": "code",
   "execution_count": 89,
   "id": "6b0dfcf3",
   "metadata": {},
   "outputs": [
    {
     "ename": "IndexError",
     "evalue": "list index out of range",
     "output_type": "error",
     "traceback": [
      "\u001b[1;31m---------------------------------------------------------------------------\u001b[0m",
      "\u001b[1;31mIndexError\u001b[0m                                Traceback (most recent call last)",
      "Cell \u001b[1;32mIn[89], line 1\u001b[0m\n\u001b[1;32m----> 1\u001b[0m \u001b[43mlista\u001b[49m\u001b[43m[\u001b[49m\u001b[38;5;241;43m4\u001b[39;49m\u001b[43m]\u001b[49m\n",
      "\u001b[1;31mIndexError\u001b[0m: list index out of range"
     ]
    }
   ],
   "source": [
    "lista[4]"
   ]
  },
  {
   "cell_type": "code",
   "execution_count": 75,
   "id": "4885c717",
   "metadata": {},
   "outputs": [
    {
     "data": {
      "text/plain": [
       "list"
      ]
     },
     "execution_count": 75,
     "metadata": {},
     "output_type": "execute_result"
    }
   ],
   "source": [
    "type(lista)"
   ]
  },
  {
   "cell_type": "code",
   "execution_count": 85,
   "id": "67397b8c",
   "metadata": {},
   "outputs": [
    {
     "data": {
      "text/plain": [
       "('gabriel', 34, 79.5, True)"
      ]
     },
     "execution_count": 85,
     "metadata": {},
     "output_type": "execute_result"
    }
   ],
   "source": [
    "tupla=('gabriel', 34, 79.5, True)\n",
    "tupla"
   ]
  },
  {
   "cell_type": "code",
   "execution_count": null,
   "id": "55c43d75",
   "metadata": {},
   "outputs": [],
   "source": []
  },
  {
   "cell_type": "code",
   "execution_count": 87,
   "id": "5c474363",
   "metadata": {},
   "outputs": [
    {
     "ename": "TypeError",
     "evalue": "'tuple' object does not support item assignment",
     "output_type": "error",
     "traceback": [
      "\u001b[1;31m---------------------------------------------------------------------------\u001b[0m",
      "\u001b[1;31mTypeError\u001b[0m                                 Traceback (most recent call last)",
      "Cell \u001b[1;32mIn[87], line 1\u001b[0m\n\u001b[1;32m----> 1\u001b[0m \u001b[43mtupla\u001b[49m\u001b[43m[\u001b[49m\u001b[38;5;241;43m0\u001b[39;49m\u001b[43m]\u001b[49m\u001b[38;5;241m=\u001b[39m\u001b[38;5;124m'\u001b[39m\u001b[38;5;124maugusto\u001b[39m\u001b[38;5;124m'\u001b[39m\n",
      "\u001b[1;31mTypeError\u001b[0m: 'tuple' object does not support item assignment"
     ]
    }
   ],
   "source": [
    "tupla[0]='augusto'"
   ]
  },
  {
   "cell_type": "code",
   "execution_count": 80,
   "id": "74b6879a",
   "metadata": {},
   "outputs": [
    {
     "data": {
      "text/plain": [
       "tuple"
      ]
     },
     "execution_count": 80,
     "metadata": {},
     "output_type": "execute_result"
    }
   ],
   "source": [
    "type(tupla)"
   ]
  },
  {
   "cell_type": "code",
   "execution_count": null,
   "id": "18020b66",
   "metadata": {},
   "outputs": [],
   "source": [
    "inpu"
   ]
  },
  {
   "cell_type": "code",
   "execution_count": 82,
   "id": "7f961464",
   "metadata": {},
   "outputs": [
    {
     "data": {
      "text/plain": [
       "{'nome': 'gabriel', 'idade': 34, 'peso': 79.5}"
      ]
     },
     "execution_count": 82,
     "metadata": {},
     "output_type": "execute_result"
    }
   ],
   "source": [
    "dicionario={'nome':'gabriel', 'idade':34, 'peso':79.5}\n",
    "dicionario"
   ]
  },
  {
   "cell_type": "code",
   "execution_count": 91,
   "id": "77e3196d",
   "metadata": {},
   "outputs": [
    {
     "data": {
      "text/plain": [
       "{'nome': 'gabriel', 'idade': 34, 'peso': 80.5}"
      ]
     },
     "execution_count": 91,
     "metadata": {},
     "output_type": "execute_result"
    }
   ],
   "source": [
    "dicionario['peso']=80.5\n",
    "dicionario"
   ]
  },
  {
   "cell_type": "code",
   "execution_count": 92,
   "id": "c4c7bace",
   "metadata": {},
   "outputs": [
    {
     "data": {
      "text/plain": [
       "80.5"
      ]
     },
     "execution_count": 92,
     "metadata": {},
     "output_type": "execute_result"
    }
   ],
   "source": [
    "dicionario['peso']"
   ]
  },
  {
   "cell_type": "markdown",
   "id": "5f0b6c59-b716-4168-a3e1-e0a607fc168c",
   "metadata": {},
   "source": [
    "# Exercícios"
   ]
  },
  {
   "cell_type": "code",
   "execution_count": null,
   "id": "ee5d92b4",
   "metadata": {},
   "outputs": [],
   "source": []
  },
  {
   "cell_type": "markdown",
   "id": "97cb5132-3e52-490d-8ec1-f63b026ed840",
   "metadata": {},
   "source": [
    "Exercicio 1:\n",
    "Atribua a duas variáveis a idade de duas pessoas, em uma terceira variável faça a média e print a seguinte frase: \n",
    "\"A média das duas idades é XX anos.\""
   ]
  },
  {
   "cell_type": "markdown",
   "id": "f58e5a3f-8a4d-47ca-aa98-4a97ac345e62",
   "metadata": {},
   "source": [
    "Exercicio 2:\n",
    "Usando os metodos de formatação aprendidos transforme \"O bom milho verde logo estara maduro\" em \"bom modelo esta raro\""
   ]
  },
  {
   "cell_type": "markdown",
   "id": "eaa623fe-2a1b-4753-b6dc-c60de6364c06",
   "metadata": {},
   "source": [
    "Exercicio desafio:\n",
    "Leia os trê coeficientes de uma equação do segundo grau a, b e c (ax^2 + bx +c) e retorne os dois resultados possíveis com um texto explicativo (não precisa fazer nenhum tipo de tratamento)"
   ]
  }
 ],
 "metadata": {
  "kernelspec": {
   "display_name": "Python 3",
   "language": "python",
   "name": "python3"
  },
  "language_info": {
   "codemirror_mode": {
    "name": "ipython",
    "version": 3
   },
   "file_extension": ".py",
   "mimetype": "text/x-python",
   "name": "python",
   "nbconvert_exporter": "python",
   "pygments_lexer": "ipython3",
   "version": "3.12.4"
  }
 },
 "nbformat": 4,
 "nbformat_minor": 5
}
