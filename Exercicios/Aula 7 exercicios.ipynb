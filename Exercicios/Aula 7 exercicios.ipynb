{
 "cells": [
  {
   "cell_type": "markdown",
   "metadata": {},
   "source": [
    "Mão na massa"
   ]
  },
  {
   "cell_type": "code",
   "execution_count": 2,
   "metadata": {},
   "outputs": [],
   "source": [
    "import numpy as np\n",
    "import pandas as pd"
   ]
  },
  {
   "cell_type": "code",
   "execution_count": 3,
   "metadata": {},
   "outputs": [
    {
     "name": "stdout",
     "output_type": "stream",
     "text": [
      "[40 15 72 22 43 82 75  7 34 49]\n",
      "int32\n"
     ]
    }
   ],
   "source": [
    "#Exercício 1\n",
    "np.random.seed(2)\n",
    "E1=np.random.randint(0,100,(10))\n",
    "print(E1)\n",
    "print(E1.dtype)"
   ]
  },
  {
   "cell_type": "code",
   "execution_count": 7,
   "metadata": {},
   "outputs": [
    {
     "name": "stdout",
     "output_type": "stream",
     "text": [
      "[[0.44 0.03 0.55 0.44 0.42]\n",
      " [0.33 0.2  0.62 0.3  0.27]\n",
      " [0.62 0.53 0.13 0.51 0.18]\n",
      " [0.79 0.85 0.49 0.85 0.08]\n",
      " [0.51 0.07 0.43 0.1  0.13]]\n",
      "Máximo:  0.85\n",
      "Mínimo:  0.03\n",
      "Média:  0.3948000000000001\n"
     ]
    }
   ],
   "source": [
    "#Exercício 2\n",
    "np.random.seed(2)\n",
    "E2=np.random.rand(5,5).round(2)\n",
    "print(E2)\n",
    "print('Máximo: ',round(E2.max(),2))\n",
    "print('Mínimo: ',E2.min())\n",
    "print('Média: ',E2.mean())"
   ]
  },
  {
   "cell_type": "code",
   "execution_count": 9,
   "metadata": {},
   "outputs": [
    {
     "name": "stdout",
     "output_type": "stream",
     "text": [
      "[0.4359949  0.02592623 0.54966248 0.43532239 0.4203678  0.33033482\n",
      " 0.20464863 0.61927097 0.29965467 0.26682728]\n",
      "float64\n",
      "int32\n"
     ]
    },
    {
     "data": {
      "text/plain": [
       "array([4, 0, 5, 4, 4, 3, 2, 6, 2, 2])"
      ]
     },
     "execution_count": 9,
     "metadata": {},
     "output_type": "execute_result"
    }
   ],
   "source": [
    "#Exercício 3\n",
    "np.random.seed(2)\n",
    "E3=np.random.rand(10)\n",
    "print(E3)\n",
    "print(E3.dtype)\n",
    "\n",
    "E3_1=(E3*10).astype(int)\n",
    "print(E3_1.dtype)\n",
    "E3_1"
   ]
  },
  {
   "cell_type": "code",
   "execution_count": 11,
   "metadata": {},
   "outputs": [
    {
     "name": "stdout",
     "output_type": "stream",
     "text": [
      "[[8 8 6]\n",
      " [2 8 7]\n",
      " [2 1 5]]\n",
      "[[ 8  8  6]\n",
      " [-1 -1 -1]\n",
      " [ 2  1  5]]\n"
     ]
    }
   ],
   "source": [
    "#Exercício 4\n",
    "np.random.seed(2)\n",
    "E4=np.random.randint(0,9,(3,3))\n",
    "print(E4)\n",
    "E4[1,:]=-1\n",
    "print(E4)\n"
   ]
  },
  {
   "cell_type": "code",
   "execution_count": 12,
   "metadata": {},
   "outputs": [
    {
     "data": {
      "text/plain": [
       "array([-1, -1, -1])"
      ]
     },
     "execution_count": 12,
     "metadata": {},
     "output_type": "execute_result"
    }
   ],
   "source": [
    "E4[1]"
   ]
  },
  {
   "cell_type": "code",
   "execution_count": null,
   "metadata": {},
   "outputs": [
    {
     "data": {
      "text/html": [
       "<div>\n",
       "<style scoped>\n",
       "    .dataframe tbody tr th:only-of-type {\n",
       "        vertical-align: middle;\n",
       "    }\n",
       "\n",
       "    .dataframe tbody tr th {\n",
       "        vertical-align: top;\n",
       "    }\n",
       "\n",
       "    .dataframe thead th {\n",
       "        text-align: right;\n",
       "    }\n",
       "</style>\n",
       "<table border=\"1\" class=\"dataframe\">\n",
       "  <thead>\n",
       "    <tr style=\"text-align: right;\">\n",
       "      <th></th>\n",
       "      <th>fruta</th>\n",
       "      <th>preco</th>\n",
       "      <th>quantitade</th>\n",
       "    </tr>\n",
       "  </thead>\n",
       "  <tbody>\n",
       "    <tr>\n",
       "      <th>0</th>\n",
       "      <td>Banana</td>\n",
       "      <td>7.9</td>\n",
       "      <td>12</td>\n",
       "    </tr>\n",
       "    <tr>\n",
       "      <th>1</th>\n",
       "      <td>Maça</td>\n",
       "      <td>10.2</td>\n",
       "      <td>3</td>\n",
       "    </tr>\n",
       "    <tr>\n",
       "      <th>2</th>\n",
       "      <td>Pera</td>\n",
       "      <td>11.8</td>\n",
       "      <td>4</td>\n",
       "    </tr>\n",
       "  </tbody>\n",
       "</table>\n",
       "</div>"
      ],
      "text/plain": [
       "    fruta  preco  quantitade\n",
       "0  Banana    7.9          12\n",
       "1    Maça   10.2           3\n",
       "2    Pera   11.8           4"
      ]
     },
     "execution_count": 13,
     "metadata": {},
     "output_type": "execute_result"
    }
   ],
   "source": [
    "#Exercício 5 - forma 1\n",
    "pd.DataFrame([['Banana', 7.90, 12],['Maça', 10.20, 3],['Pera', 11.80, 4]], columns=['fruta', 'preco', 'quantitade'])"
   ]
  },
  {
   "cell_type": "code",
   "execution_count": 14,
   "metadata": {},
   "outputs": [
    {
     "data": {
      "text/html": [
       "<div>\n",
       "<style scoped>\n",
       "    .dataframe tbody tr th:only-of-type {\n",
       "        vertical-align: middle;\n",
       "    }\n",
       "\n",
       "    .dataframe tbody tr th {\n",
       "        vertical-align: top;\n",
       "    }\n",
       "\n",
       "    .dataframe thead th {\n",
       "        text-align: right;\n",
       "    }\n",
       "</style>\n",
       "<table border=\"1\" class=\"dataframe\">\n",
       "  <thead>\n",
       "    <tr style=\"text-align: right;\">\n",
       "      <th></th>\n",
       "      <th>fruta</th>\n",
       "      <th>preco</th>\n",
       "      <th>quantidade</th>\n",
       "    </tr>\n",
       "  </thead>\n",
       "  <tbody>\n",
       "    <tr>\n",
       "      <th>0</th>\n",
       "      <td>Banana</td>\n",
       "      <td>7.9</td>\n",
       "      <td>12</td>\n",
       "    </tr>\n",
       "    <tr>\n",
       "      <th>1</th>\n",
       "      <td>Maça</td>\n",
       "      <td>10.2</td>\n",
       "      <td>3</td>\n",
       "    </tr>\n",
       "    <tr>\n",
       "      <th>2</th>\n",
       "      <td>Pera</td>\n",
       "      <td>11.8</td>\n",
       "      <td>4</td>\n",
       "    </tr>\n",
       "  </tbody>\n",
       "</table>\n",
       "</div>"
      ],
      "text/plain": [
       "    fruta  preco  quantidade\n",
       "0  Banana    7.9          12\n",
       "1    Maça   10.2           3\n",
       "2    Pera   11.8           4"
      ]
     },
     "execution_count": 14,
     "metadata": {},
     "output_type": "execute_result"
    }
   ],
   "source": [
    "#Exercício 5 - forma 2\n",
    "df=pd.DataFrame()\n",
    "df['fruta'] = ['Banana', 'Maça', 'Pera']\n",
    "df['preco'] = [7.90, 10.20, 11.80]\n",
    "df['quantidade'] = [12, 3, 4]\n",
    "df"
   ]
  }
 ],
 "metadata": {
  "kernelspec": {
   "display_name": "base",
   "language": "python",
   "name": "python3"
  },
  "language_info": {
   "codemirror_mode": {
    "name": "ipython",
    "version": 3
   },
   "file_extension": ".py",
   "mimetype": "text/x-python",
   "name": "python",
   "nbconvert_exporter": "python",
   "pygments_lexer": "ipython3",
   "version": "3.11.7"
  }
 },
 "nbformat": 4,
 "nbformat_minor": 2
}
