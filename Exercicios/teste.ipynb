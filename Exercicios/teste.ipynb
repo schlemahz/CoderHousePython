{
 "cells": [
  {
   "cell_type": "code",
   "execution_count": 4,
   "metadata": {},
   "outputs": [],
   "source": [
    "import notification"
   ]
  },
  {
   "cell_type": "code",
   "execution_count": 3,
   "metadata": {},
   "outputs": [
    {
     "name": "stdout",
     "output_type": "stream",
     "text": [
      "Collecting notification\n",
      "  Downloading notification-0.2.1.tar.gz (3.9 kB)\n",
      "  Installing build dependencies: started\n",
      "  Installing build dependencies: finished with status 'done'\n",
      "  Getting requirements to build wheel: started\n",
      "  Getting requirements to build wheel: finished with status 'done'\n",
      "  Preparing metadata (pyproject.toml): started\n",
      "  Preparing metadata (pyproject.toml): finished with status 'done'\n",
      "Building wheels for collected packages: notification\n",
      "  Building wheel for notification (pyproject.toml): started\n",
      "  Building wheel for notification (pyproject.toml): finished with status 'done'\n",
      "  Created wheel for notification: filename=notification-0.2.1-py3-none-any.whl size=6662 sha256=064d851e9dc22fb5dccdcee4ee70a8350038e4ed83986dd7e721f9fca69198fd\n",
      "  Stored in directory: c:\\users\\gabriel\\appdata\\local\\pip\\cache\\wheels\\8e\\fd\\68\\f2fe133c012d78f653352f15ead3ddb74d28ecc427c16a9c65\n",
      "Successfully built notification\n",
      "Installing collected packages: notification\n",
      "Successfully installed notification-0.2.1\n",
      "Note: you may need to restart the kernel to use updated packages.\n"
     ]
    }
   ],
   "source": [
    "pip install notification"
   ]
  },
  {
   "cell_type": "code",
   "execution_count": 5,
   "metadata": {},
   "outputs": [
    {
     "ename": "AttributeError",
     "evalue": "module 'notification' has no attribute 'notify'",
     "output_type": "error",
     "traceback": [
      "\u001b[1;31m---------------------------------------------------------------------------\u001b[0m",
      "\u001b[1;31mAttributeError\u001b[0m                            Traceback (most recent call last)",
      "Cell \u001b[1;32mIn[5], line 1\u001b[0m\n\u001b[1;32m----> 1\u001b[0m \u001b[43mnotification\u001b[49m\u001b[38;5;241;43m.\u001b[39;49m\u001b[43mnotify\u001b[49m(\n\u001b[0;32m      2\u001b[0m     title\u001b[38;5;241m=\u001b[39m\u001b[38;5;124m'\u001b[39m\u001b[38;5;124mTítulo da Notificação\u001b[39m\u001b[38;5;124m'\u001b[39m,\n\u001b[0;32m      3\u001b[0m     message\u001b[38;5;241m=\u001b[39m\u001b[38;5;124m'\u001b[39m\u001b[38;5;124mEste é o corpo da mensagem da notificação.\u001b[39m\u001b[38;5;124m'\u001b[39m,\n\u001b[0;32m      4\u001b[0m     timeout\u001b[38;5;241m=\u001b[39m\u001b[38;5;241m10\u001b[39m \u001b[38;5;66;03m# Duração da notificação em segundos\u001b[39;00m\n\u001b[0;32m      5\u001b[0m )\n",
      "\u001b[1;31mAttributeError\u001b[0m: module 'notification' has no attribute 'notify'"
     ]
    }
   ],
   "source": [
    "notification.notify(\n",
    "    title='Título da Notificação',\n",
    "    message='Este é o corpo da mensagem da notificação.',\n",
    "    timeout=10 # Duração da notificação em segundos\n",
    ")"
   ]
  },
  {
   "cell_type": "code",
   "execution_count": 6,
   "metadata": {},
   "outputs": [
    {
     "data": {
      "text/plain": [
       "[None, None, None, None]"
      ]
     },
     "execution_count": 6,
     "metadata": {},
     "output_type": "execute_result"
    }
   ],
   "source": [
    "\n",
    "\n",
    "def alertaMensagem (titulo, mensagem):\n",
    "    from plyer import notification\n",
    "    notification.notify(\n",
    "        title = titulo,\n",
    "        message = mensagem\n",
    "    )\n",
    "\n",
    "notificacoes = (\n",
    "    (\"Missao de Emergencia\", \"Primeiros Passos\", \"Falha no carregamento da base de Primeiros Passos na etapa de Aprender Python.\"),\n",
    "    (\"Alerta do Holodeck\", \"Exploracao e Criatividade\", \"Falha no carregamento da base de Exploracao e Criatividade na etapa de criar um novo planeta no holodeck.\"),\n",
    "    (\"Analise de Dados\", \"Depuracao e Revisao\", \"Falha no carregamento da base de Depuracao e Revisao na etapa de detectar um bug no programa.\"),\n",
    "    (\"Relatorio do Capitao\", \"Conclusao\", \"Falha no carregamento da base de Conclusao na etapa de finalizar a tarefa.\")\n",
    ")\n",
    "\n",
    "\n",
    "list(map(lambda n: alertaMensagem(n[0], n[2]), notificacoes))"
   ]
  }
 ],
 "metadata": {
  "kernelspec": {
   "display_name": "Python 3",
   "language": "python",
   "name": "python3"
  },
  "language_info": {
   "codemirror_mode": {
    "name": "ipython",
    "version": 3
   },
   "file_extension": ".py",
   "mimetype": "text/x-python",
   "name": "python",
   "nbconvert_exporter": "python",
   "pygments_lexer": "ipython3",
   "version": "3.12.4"
  }
 },
 "nbformat": 4,
 "nbformat_minor": 2
}
