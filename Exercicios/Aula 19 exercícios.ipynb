{
 "cells": [
  {
   "cell_type": "code",
   "execution_count": 1,
   "metadata": {},
   "outputs": [],
   "source": [
    "from pyspark.sql import SparkSession\n",
    "import pyspark as ps\n",
    "import pyspark.sql.functions as F\n",
    "from pyspark.sql.functions import col, lit, when, desc, asc\n",
    "from pyspark.sql import types as T\n",
    "import pandas as pd"
   ]
  },
  {
   "cell_type": "code",
   "execution_count": 2,
   "metadata": {},
   "outputs": [],
   "source": [
    "#Exercício 1\n",
    "df=pd.read_csv('realtor-data.zip.csv')\n"
   ]
  },
  {
   "cell_type": "code",
   "execution_count": 3,
   "metadata": {},
   "outputs": [],
   "source": [
    "#Exercício 2\n",
    "df.to_parquet('realtor-data.parquet')"
   ]
  },
  {
   "cell_type": "code",
   "execution_count": 4,
   "metadata": {},
   "outputs": [
    {
     "data": {
      "text/plain": [
       "<pyspark.conf.SparkConf at 0x21680384510>"
      ]
     },
     "execution_count": 4,
     "metadata": {},
     "output_type": "execute_result"
    }
   ],
   "source": [
    "#abrindo sessão\n",
    "spark=(SparkSession\n",
    "       .builder\n",
    "       .appName(\"Python Spark SQL basic example\") \n",
    "        .config(\"spark.some.config.option\", \"some-value\") \n",
    "        .getOrCreate())\n",
    "conf = ps.SparkConf().setMaster(\"yarn-client\").setAppName(\"sparK-mer\")\n",
    "conf.set(\"spark.executor.heartbeatInterval\",\"3600s\")"
   ]
  },
  {
   "cell_type": "code",
   "execution_count": 5,
   "metadata": {},
   "outputs": [
    {
     "name": "stdout",
     "output_type": "stream",
     "text": [
      "root\n",
      " |-- brokered_by: double (nullable = true)\n",
      " |-- status: string (nullable = true)\n",
      " |-- price: double (nullable = true)\n",
      " |-- bed: double (nullable = true)\n",
      " |-- bath: double (nullable = true)\n",
      " |-- acre_lot: double (nullable = true)\n",
      " |-- street: double (nullable = true)\n",
      " |-- city: string (nullable = true)\n",
      " |-- state: string (nullable = true)\n",
      " |-- zip_code: double (nullable = true)\n",
      " |-- house_size: double (nullable = true)\n",
      " |-- prev_sold_date: string (nullable = true)\n",
      "\n"
     ]
    }
   ],
   "source": [
    "casas=spark.read.parquet('realtor-data.parquet')\n",
    "casas.printSchema()"
   ]
  },
  {
   "cell_type": "code",
   "execution_count": null,
   "metadata": {},
   "outputs": [
    {
     "data": {
      "text/plain": [
       "DataFrame[brokered_by: double, status: string, price: double, bed: double, bath: double, acre_lot: double, street: double, city: string, state: string, zip_code: double, house_size: double, prev_sold_date: string]"
      ]
     },
     "execution_count": 6,
     "metadata": {},
     "output_type": "execute_result"
    }
   ],
   "source": [
    "#Exercício 3\n",
    "\n",
    "casas_part=casas.repartition(32)\n",
    "casas_part.cache() "
   ]
  },
  {
   "cell_type": "code",
   "execution_count": 7,
   "metadata": {},
   "outputs": [
    {
     "data": {
      "text/plain": [
       "32"
      ]
     },
     "execution_count": 7,
     "metadata": {},
     "output_type": "execute_result"
    }
   ],
   "source": [
    "casas_part.rdd.getNumPartitions()"
   ]
  },
  {
   "cell_type": "code",
   "execution_count": 8,
   "metadata": {},
   "outputs": [
    {
     "name": "stdout",
     "output_type": "stream",
     "text": [
      "+--------------------+--------+--------------+------+\n",
      "|               state|for_sale|ready_to_build|  sold|\n",
      "+--------------------+--------+--------------+------+\n",
      "|                NULL|       2|             6|  NULL|\n",
      "|             Alabama|   26486|           802|  6765|\n",
      "|              Alaska|    2581|          NULL|  NULL|\n",
      "|             Arizona|   37657|          1042| 34126|\n",
      "|            Arkansas|   19013|             7|  4025|\n",
      "|          California|  101034|          1168|125013|\n",
      "|            Colorado|   26911|           706|  4676|\n",
      "|         Connecticut|   13940|             4|    64|\n",
      "|            Delaware|    5143|           198|  3287|\n",
      "|District of Columbia|    2922|          NULL|  3703|\n",
      "|             Florida|  161216|          2624| 85592|\n",
      "|             Georgia|   51517|           517| 28943|\n",
      "|                Guam|     489|          NULL|  NULL|\n",
      "|              Hawaii|    6994|          NULL|   249|\n",
      "|               Idaho|   11899|           236|  4625|\n",
      "|            Illinois|   53194|           238| 31848|\n",
      "|             Indiana|   18279|           444|   117|\n",
      "|                Iowa|   13875|          NULL|  9158|\n",
      "|              Kansas|   10810|          NULL|  4048|\n",
      "|            Kentucky|   18615|           802|  6899|\n",
      "+--------------------+--------+--------------+------+\n",
      "only showing top 20 rows\n",
      "\n"
     ]
    }
   ],
   "source": [
    "#Exercício 4\n",
    "casas_part.groupBy('state').pivot('status').count().orderBy('state').show()"
   ]
  },
  {
   "cell_type": "code",
   "execution_count": 9,
   "metadata": {},
   "outputs": [
    {
     "name": "stdout",
     "output_type": "stream",
     "text": [
      "+-----------+-----------+\n",
      "|       city| house_size|\n",
      "+-----------+-----------+\n",
      "|      Tacna|1.0404004E9|\n",
      "|     Warden|  1.29922E7|\n",
      "|    Pierson|  9842382.0|\n",
      "|Rocksprings|  7971480.0|\n",
      "|  Wenatchee|  3484800.0|\n",
      "+-----------+-----------+\n",
      "only showing top 5 rows\n",
      "\n"
     ]
    }
   ],
   "source": [
    "#Exercício 5\n",
    "casas_part.select('city','house_size').orderBy(F.desc('house_size')).show(5)"
   ]
  },
  {
   "cell_type": "code",
   "execution_count": 10,
   "metadata": {},
   "outputs": [
    {
     "name": "stdout",
     "output_type": "stream",
     "text": [
      "+-------------+----------+\n",
      "|        state|population|\n",
      "+-------------+----------+\n",
      "|  Connecticut|      3606|\n",
      "|  Puerto Rico|      3264|\n",
      "|Massachusetts|      6985|\n",
      "|     New York|      8468|\n",
      "+-------------+----------+\n",
      "\n"
     ]
    }
   ],
   "source": [
    "#Exercício 6\n",
    "tabela=pd.DataFrame({'state':['Connecticut', 'Puerto Rico', 'Massachusetts', 'New York'], \n",
    "              'population':[3606, 3264, 6985, 8468]})\n",
    "tabela.to_parquet('tabela.parquet')\n",
    "tabela=spark.read.parquet('tabela.parquet')\n",
    "tabela.show()"
   ]
  },
  {
   "cell_type": "code",
   "execution_count": 11,
   "metadata": {},
   "outputs": [
    {
     "name": "stdout",
     "output_type": "stream",
     "text": [
      "+-------------+-----------+--------+---------+----+----+--------+---------+-------------+--------+----------+--------------+----------+\n",
      "|        state|brokered_by|  status|    price| bed|bath|acre_lot|   street|         city|zip_code|house_size|prev_sold_date|population|\n",
      "+-------------+-----------+--------+---------+----+----+--------+---------+-------------+--------+----------+--------------+----------+\n",
      "|Massachusetts|    24035.0|for_sale| 399000.0| 6.0| 3.0|    0.07|1105804.0|      Peabody|  1960.0|    2547.0|    1994-08-29|      6985|\n",
      "|Massachusetts|    21437.0|for_sale| 800000.0| 4.0| 2.0|    0.08| 388344.0|       Revere|  2151.0|    1900.0|          NULL|      6985|\n",
      "|     New York|    40690.0|for_sale| 262500.0| 3.0| 1.0|    0.27| 560703.0|         Troy| 12180.0|    1700.0|    2019-08-02|      8468|\n",
      "|Massachusetts|    22731.0|for_sale| 265000.0| 1.0| 1.0|    NULL|1761878.0|     Weymouth|  2191.0|     772.0|    2001-06-29|      6985|\n",
      "|     New York|    91607.0|for_sale| 549000.0| 5.0| 3.0|    0.23| 652853.0|   Kings Park| 11754.0|      NULL|    1999-12-02|      8468|\n",
      "|     New York|    22550.0|for_sale| 458800.0| 2.0| 3.0|    0.15|1138055.0|      Colonie| 12110.0|    1601.0|    2022-01-20|      8468|\n",
      "|     New York|    87758.0|for_sale|  75000.0| 3.0| 2.0|    0.25|1109492.0|  Plattsburgh| 12901.0|    1064.0|    1995-03-09|      8468|\n",
      "|     New York|     3372.0|for_sale| 689000.0| 2.0| 2.0|    NULL| 595420.0|      Bayside| 11360.0|    1020.0|    1990-10-24|      8468|\n",
      "|Massachusetts|    36448.0|for_sale| 769900.0| 3.0| 3.0|    12.0|1142081.0|      Gardner|  1440.0|    2670.0|          NULL|      6985|\n",
      "|     New York|    52753.0|for_sale| 170000.0|NULL|NULL|     9.3|   6898.0|    Pine Bush| 12566.0|      NULL|    2004-09-03|      8468|\n",
      "|Massachusetts|    40019.0|for_sale|4099000.0| 3.0| 3.0|    0.72| 732601.0|    Nantucket|  2554.0|    2447.0|    2005-04-01|      6985|\n",
      "|     New York|    24201.0|for_sale|1299000.0| 1.0| 1.0|    NULL|1052412.0|     New York| 10003.0|      NULL|          NULL|      8468|\n",
      "|  Connecticut|    33503.0|for_sale| 599000.0| 4.0| 3.0|    1.51|1032266.0|    Mansfield|  6268.0|    2745.0|    2013-05-01|      3606|\n",
      "|     New York|     5869.0|for_sale| 980000.0| 3.0| 2.0|    NULL| 108225.0| Forest Hills| 11375.0|     968.0|          NULL|      8468|\n",
      "|     New York|    24196.0|for_sale| 599000.0| 1.0| 2.0|    NULL|1373003.0|New York City| 10044.0|      NULL|          NULL|      8468|\n",
      "|     New York|    24920.0|for_sale| 220000.0|13.0|NULL|     1.0| 685457.0| Seneca Falls| 13148.0|     924.0|    2013-12-31|      8468|\n",
      "|  Connecticut|    83116.0|for_sale| 259900.0| 2.0| 2.0|    0.28| 269937.0|      Meriden|  6450.0|    1232.0|    2021-12-03|      3606|\n",
      "|Massachusetts|    17658.0|for_sale| 500000.0| 2.0| 2.0|    NULL| 943352.0|       Woburn|  1801.0|    1280.0|    2000-12-29|      6985|\n",
      "|     New York|    25560.0|for_sale| 450000.0| 4.0| 3.0|     1.7|1448425.0|   Montgomery| 12549.0|    2856.0|    1997-08-01|      8468|\n",
      "|     New York|    34944.0|for_sale| 419000.0| 3.0| 2.0|    NULL| 953948.0|     Brooklyn| 11235.0|    1178.0|    2015-10-23|      8468|\n",
      "+-------------+-----------+--------+---------+----+----+--------+---------+-------------+--------+----------+--------------+----------+\n",
      "only showing top 20 rows\n",
      "\n"
     ]
    }
   ],
   "source": [
    "casas_join=casas_part.join(tabela,'state', 'inner')\n",
    "casas_join.show()\n"
   ]
  },
  {
   "cell_type": "code",
   "execution_count": 12,
   "metadata": {},
   "outputs": [
    {
     "name": "stdout",
     "output_type": "stream",
     "text": [
      "original:  2226382\n",
      "inner join:  158334\n"
     ]
    }
   ],
   "source": [
    "print('original: ', casas_part.count())\n",
    "print('inner join: ', casas_join.count())"
   ]
  },
  {
   "cell_type": "code",
   "execution_count": null,
   "metadata": {},
   "outputs": [],
   "source": []
  }
 ],
 "metadata": {
  "kernelspec": {
   "display_name": "gabriel",
   "language": "python",
   "name": "python3"
  },
  "language_info": {
   "codemirror_mode": {
    "name": "ipython",
    "version": 3
   },
   "file_extension": ".py",
   "mimetype": "text/x-python",
   "name": "python",
   "nbconvert_exporter": "python",
   "pygments_lexer": "ipython3",
   "version": "3.13.0"
  }
 },
 "nbformat": 4,
 "nbformat_minor": 2
}
