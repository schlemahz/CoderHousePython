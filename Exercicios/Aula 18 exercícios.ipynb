{
 "cells": [
  {
   "cell_type": "code",
   "execution_count": 1,
   "metadata": {},
   "outputs": [],
   "source": [
    "from pyspark.sql import SparkSession\n",
    "import pyspark as ps\n",
    "import pyspark.sql.functions as F\n",
    "from pyspark.sql.functions import col, lit, when"
   ]
  },
  {
   "cell_type": "code",
   "execution_count": 2,
   "metadata": {},
   "outputs": [
    {
     "data": {
      "text/plain": [
       "<pyspark.conf.SparkConf at 0x1c0c2c71c50>"
      ]
     },
     "execution_count": 2,
     "metadata": {},
     "output_type": "execute_result"
    }
   ],
   "source": [
    "#abrindo sessão\n",
    "spark=(SparkSession\n",
    "       .builder\n",
    "       .appName(\"Python Spark SQL basic example\") \n",
    "        .config(\"spark.some.config.option\", \"some-value\") \n",
    "        .getOrCreate())\n",
    "conf = ps.SparkConf().setMaster(\"yarn-client\").setAppName(\"sparK-mer\")\n",
    "conf.set(\"spark.executor.heartbeatInterval\",\"3600s\")"
   ]
  },
  {
   "cell_type": "code",
   "execution_count": 3,
   "metadata": {},
   "outputs": [
    {
     "name": "stdout",
     "output_type": "stream",
     "text": [
      "+-----------+--------+--------+---+----+--------+---------+-------------+-----------+--------+----------+--------------+\n",
      "|brokered_by|  status|   price|bed|bath|acre_lot|   street|         city|      state|zip_code|house_size|prev_sold_date|\n",
      "+-----------+--------+--------+---+----+--------+---------+-------------+-----------+--------+----------+--------------+\n",
      "|   103378.0|for_sale|105000.0|  3|   2|    0.12|1962661.0|     Adjuntas|Puerto Rico|   00601|     920.0|          NULL|\n",
      "|    52707.0|for_sale| 80000.0|  4|   2|    0.08|1902874.0|     Adjuntas|Puerto Rico|   00601|    1527.0|          NULL|\n",
      "|   103379.0|for_sale| 67000.0|  2|   1|    0.15|1404990.0|   Juana Diaz|Puerto Rico|   00795|     748.0|          NULL|\n",
      "|    31239.0|for_sale|145000.0|  4|   2|     0.1|1947675.0|        Ponce|Puerto Rico|   00731|    1800.0|          NULL|\n",
      "|    34632.0|for_sale| 65000.0|  6|   2|    0.05| 331151.0|     Mayaguez|Puerto Rico|   00680|      NULL|          NULL|\n",
      "|   103378.0|for_sale|179000.0|  4|   3|    0.46|1850806.0|San Sebastian|Puerto Rico|   00612|    2520.0|          NULL|\n",
      "|     1205.0|for_sale| 50000.0|  3|   1|     0.2|1298094.0|       Ciales|Puerto Rico|   00639|    2040.0|          NULL|\n",
      "|    50739.0|for_sale| 71600.0|  3|   2|    0.08|1048466.0|        Ponce|Puerto Rico|   00731|    1050.0|          NULL|\n",
      "|    81909.0|for_sale|100000.0|  2|   1|    0.09| 734904.0|        Ponce|Puerto Rico|   00730|    1092.0|          NULL|\n",
      "|    65672.0|for_sale|300000.0|  5|   3|    7.46|1946226.0|   Las Marias|Puerto Rico|   00670|    5403.0|          NULL|\n",
      "+-----------+--------+--------+---+----+--------+---------+-------------+-----------+--------+----------+--------------+\n",
      "only showing top 10 rows\n",
      "\n"
     ]
    }
   ],
   "source": [
    "#Exercício 1\n",
    "casas = (spark.read.format(\"csv\")\n",
    "      .option(\"header\",\"true\")\n",
    "      .load(\"realtor-data.zip.csv\"))\n",
    "casas.show(10)"
   ]
  },
  {
   "cell_type": "code",
   "execution_count": 4,
   "metadata": {},
   "outputs": [
    {
     "data": {
      "text/plain": [
       "2226382"
      ]
     },
     "execution_count": 4,
     "metadata": {},
     "output_type": "execute_result"
    }
   ],
   "source": [
    "#Exercício 2\n",
    "casas_pd = casas.toPandas()\n",
    "len(casas_pd)\n"
   ]
  },
  {
   "cell_type": "code",
   "execution_count": 5,
   "metadata": {},
   "outputs": [
    {
     "data": {
      "text/plain": [
       "2226382"
      ]
     },
     "execution_count": 5,
     "metadata": {},
     "output_type": "execute_result"
    }
   ],
   "source": [
    "casas.count()"
   ]
  },
  {
   "cell_type": "code",
   "execution_count": 6,
   "metadata": {},
   "outputs": [
    {
     "name": "stdout",
     "output_type": "stream",
     "text": [
      "root\n",
      " |-- brokered_by: string (nullable = true)\n",
      " |-- status: string (nullable = true)\n",
      " |-- price: string (nullable = true)\n",
      " |-- bed: string (nullable = true)\n",
      " |-- bath: string (nullable = true)\n",
      " |-- acre_lot: string (nullable = true)\n",
      " |-- street: string (nullable = true)\n",
      " |-- city: string (nullable = true)\n",
      " |-- state: string (nullable = true)\n",
      " |-- zip_code: string (nullable = true)\n",
      " |-- house_size: string (nullable = true)\n",
      " |-- prev_sold_date: string (nullable = true)\n",
      "\n"
     ]
    }
   ],
   "source": [
    "#Exercício 3\n",
    "casas.printSchema()"
   ]
  },
  {
   "cell_type": "code",
   "execution_count": 8,
   "metadata": {},
   "outputs": [
    {
     "name": "stdout",
     "output_type": "stream",
     "text": [
      "+-----------+--------+--------+---+----+--------+---------+-------------+-----------+--------+----------+--------------+\n",
      "|brokered_by|  status|   price|bed|bath|acre_lot|   street|         city|      state|zip_code|house_size|prev_sold_date|\n",
      "+-----------+--------+--------+---+----+--------+---------+-------------+-----------+--------+----------+--------------+\n",
      "|   103378.0|for_sale|105000.0|  3|   2|    0.12|1962661.0|     Adjuntas|Puerto Rico|   00601|     920.0|          NULL|\n",
      "|    31239.0|for_sale|145000.0|  4|   2|     0.1|1947675.0|        Ponce|Puerto Rico|   00731|    1800.0|          NULL|\n",
      "|   103378.0|for_sale|179000.0|  4|   3|    0.46|1850806.0|San Sebastian|Puerto Rico|   00612|    2520.0|          NULL|\n",
      "|    65672.0|for_sale|300000.0|  5|   3|    7.46|1946226.0|   Las Marias|Puerto Rico|   00670|    5403.0|          NULL|\n",
      "|    52707.0|for_sale|150000.0|  3|   2|    0.08|1773902.0|   Juana Diaz|Puerto Rico|   00795|    1045.0|          NULL|\n",
      "|    46019.0|for_sale|155000.0|  3|   2|     0.1|1946165.0|        Lares|Puerto Rico|   00669|    4161.0|          NULL|\n",
      "|    88441.0|for_sale|649000.0|  5|   5|    0.74|1879215.0|        Ponce|Puerto Rico|   00731|    2677.0|          NULL|\n",
      "|    50739.0|for_sale|120000.0|  3|   2|    0.08|  17854.0|        Yauco|Puerto Rico|   00698|    1100.0|          NULL|\n",
      "|    51202.0|for_sale|235000.0|  4|   4|    0.22|  13687.0|     Mayaguez|Puerto Rico|   00680|    3450.0|          NULL|\n",
      "|    12876.0|for_sale|105000.0|  3|   2|    0.08|1868721.0|        Ponce|Puerto Rico|   00728|    1500.0|          NULL|\n",
      "+-----------+--------+--------+---+----+--------+---------+-------------+-----------+--------+----------+--------------+\n",
      "only showing top 10 rows\n",
      "\n"
     ]
    }
   ],
   "source": [
    "#filtro\n",
    "casas.filter((col('state')==\"Puerto Rico\")&(col('price')>100000)).show(10)"
   ]
  },
  {
   "cell_type": "code",
   "execution_count": 9,
   "metadata": {},
   "outputs": [
    {
     "name": "stdout",
     "output_type": "stream",
     "text": [
      "+-----------+--------+--------+---+----+--------+---------+-------------+-----------+--------+----------+--------------+--------+\n",
      "|brokered_by|  status|   price|bed|bath|acre_lot|   street|         city|      state|zip_code|house_size|prev_sold_date|   preço|\n",
      "+-----------+--------+--------+---+----+--------+---------+-------------+-----------+--------+----------+--------------+--------+\n",
      "|   103378.0|for_sale|105000.0|  3|   2|    0.12|1962661.0|     Adjuntas|Puerto Rico|   00601|     920.0|          NULL|105000.0|\n",
      "|    31239.0|for_sale|145000.0|  4|   2|     0.1|1947675.0|        Ponce|Puerto Rico|   00731|    1800.0|          NULL|145000.0|\n",
      "|   103378.0|for_sale|179000.0|  4|   3|    0.46|1850806.0|San Sebastian|Puerto Rico|   00612|    2520.0|          NULL|179000.0|\n",
      "|    65672.0|for_sale|300000.0|  5|   3|    7.46|1946226.0|   Las Marias|Puerto Rico|   00670|    5403.0|          NULL|300000.0|\n",
      "|    52707.0|for_sale|150000.0|  3|   2|    0.08|1773902.0|   Juana Diaz|Puerto Rico|   00795|    1045.0|          NULL|150000.0|\n",
      "|    46019.0|for_sale|155000.0|  3|   2|     0.1|1946165.0|        Lares|Puerto Rico|   00669|    4161.0|          NULL|155000.0|\n",
      "|    88441.0|for_sale|649000.0|  5|   5|    0.74|1879215.0|        Ponce|Puerto Rico|   00731|    2677.0|          NULL|649000.0|\n",
      "|    50739.0|for_sale|120000.0|  3|   2|    0.08|  17854.0|        Yauco|Puerto Rico|   00698|    1100.0|          NULL|120000.0|\n",
      "|    51202.0|for_sale|235000.0|  4|   4|    0.22|  13687.0|     Mayaguez|Puerto Rico|   00680|    3450.0|          NULL|235000.0|\n",
      "|    12876.0|for_sale|105000.0|  3|   2|    0.08|1868721.0|        Ponce|Puerto Rico|   00728|    1500.0|          NULL|105000.0|\n",
      "+-----------+--------+--------+---+----+--------+---------+-------------+-----------+--------+----------+--------------+--------+\n",
      "only showing top 10 rows\n",
      "\n"
     ]
    }
   ],
   "source": [
    "casas.withColumn(\"preço\", casas[\"price\"].cast(\"float\")).filter(\n",
    "    (col('state')==\"Puerto Rico\")&(col('preço')>100000)).show(10)"
   ]
  },
  {
   "cell_type": "code",
   "execution_count": 11,
   "metadata": {},
   "outputs": [
    {
     "name": "stdout",
     "output_type": "stream",
     "text": [
      "+-----------+--------+--------+---+----+--------+---------+-------------+-----------+--------+----------+--------------+--------+\n",
      "|brokered_by|  status|   price|bed|bath|acre_lot|   street|         city|      state|zip_code|house_size|prev_sold_date| tamanho|\n",
      "+-----------+--------+--------+---+----+--------+---------+-------------+-----------+--------+----------+--------------+--------+\n",
      "|   103378.0|for_sale|105000.0|  3|   2|    0.12|1962661.0|     Adjuntas|Puerto Rico|   00601|     920.0|          NULL| pequena|\n",
      "|    52707.0|for_sale| 80000.0|  4|   2|    0.08|1902874.0|     Adjuntas|Puerto Rico|   00601|    1527.0|          NULL|   media|\n",
      "|   103379.0|for_sale| 67000.0|  2|   1|    0.15|1404990.0|   Juana Diaz|Puerto Rico|   00795|     748.0|          NULL| pequena|\n",
      "|    31239.0|for_sale|145000.0|  4|   2|     0.1|1947675.0|        Ponce|Puerto Rico|   00731|    1800.0|          NULL|   media|\n",
      "|    34632.0|for_sale| 65000.0|  6|   2|    0.05| 331151.0|     Mayaguez|Puerto Rico|   00680|      NULL|          NULL|sem info|\n",
      "|   103378.0|for_sale|179000.0|  4|   3|    0.46|1850806.0|San Sebastian|Puerto Rico|   00612|    2520.0|          NULL|   media|\n",
      "|     1205.0|for_sale| 50000.0|  3|   1|     0.2|1298094.0|       Ciales|Puerto Rico|   00639|    2040.0|          NULL|   media|\n",
      "|    50739.0|for_sale| 71600.0|  3|   2|    0.08|1048466.0|        Ponce|Puerto Rico|   00731|    1050.0|          NULL|   media|\n",
      "|    81909.0|for_sale|100000.0|  2|   1|    0.09| 734904.0|        Ponce|Puerto Rico|   00730|    1092.0|          NULL|   media|\n",
      "|    65672.0|for_sale|300000.0|  5|   3|    7.46|1946226.0|   Las Marias|Puerto Rico|   00670|    5403.0|          NULL|  grande|\n",
      "|    52707.0|for_sale| 89000.0|  3|   2|   13.39|1902814.0|      Isabela|Puerto Rico|   00662|    1106.0|          NULL|   media|\n",
      "|    52707.0|for_sale|150000.0|  3|   2|    0.08|1773902.0|   Juana Diaz|Puerto Rico|   00795|    1045.0|          NULL|   media|\n",
      "|    46019.0|for_sale|155000.0|  3|   2|     0.1|1946165.0|        Lares|Puerto Rico|   00669|    4161.0|          NULL|   media|\n",
      "|    52707.0|for_sale| 79000.0|  5|   2|    0.12|1761024.0|       Utuado|Puerto Rico|   00641|    1620.0|          NULL|   media|\n",
      "|    88441.0|for_sale|649000.0|  5|   5|    0.74|1879215.0|        Ponce|Puerto Rico|   00731|    2677.0|          NULL|   media|\n",
      "|    50739.0|for_sale|120000.0|  3|   2|    0.08|  17854.0|        Yauco|Puerto Rico|   00698|    1100.0|          NULL|   media|\n",
      "|    51202.0|for_sale|235000.0|  4|   4|    0.22|  13687.0|     Mayaguez|Puerto Rico|   00680|    3450.0|          NULL|   media|\n",
      "|    12876.0|for_sale|105000.0|  3|   2|    0.08|1868721.0|        Ponce|Puerto Rico|   00728|    1500.0|          NULL|   media|\n",
      "|   109906.0|for_sale|575000.0|  3|   2|    3.88|1312671.0|San Sebastian|Puerto Rico|   00685|    4000.0|          NULL|   media|\n",
      "|    46019.0|for_sale|140000.0|  6|   3|    0.25|   6710.0|       Anasco|Puerto Rico|   00610|    1230.0|          NULL|   media|\n",
      "+-----------+--------+--------+---+----+--------+---------+-------------+-----------+--------+----------+--------------+--------+\n",
      "only showing top 20 rows\n",
      "\n"
     ]
    }
   ],
   "source": [
    "#Exercício 4\n",
    "casas.withColumn('tamanho',\n",
    "                when(col('house_size')<1000,'pequena')\n",
    "                .when(col('house_size')<5000,'media')\n",
    "                .when(col('house_size')>=5000,'grande')\n",
    "                .otherwise('sem info')).show(20)"
   ]
  },
  {
   "cell_type": "code",
   "execution_count": 12,
   "metadata": {},
   "outputs": [],
   "source": [
    "spark.stop()"
   ]
  }
 ],
 "metadata": {
  "kernelspec": {
   "display_name": "base",
   "language": "python",
   "name": "python3"
  },
  "language_info": {
   "codemirror_mode": {
    "name": "ipython",
    "version": 3
   },
   "file_extension": ".py",
   "mimetype": "text/x-python",
   "name": "python",
   "nbconvert_exporter": "python",
   "pygments_lexer": "ipython3",
   "version": "3.11.7"
  }
 },
 "nbformat": 4,
 "nbformat_minor": 2
}
