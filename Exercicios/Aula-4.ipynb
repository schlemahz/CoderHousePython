{
 "cells": [
  {
   "cell_type": "markdown",
   "id": "2316546c-b7d5-4bbb-8627-a1c5c339cbca",
   "metadata": {},
   "source": [
    "# Funções Personalizadas"
   ]
  },
  {
   "cell_type": "code",
   "execution_count": 7,
   "id": "24e1db57-4d40-4bb1-b4d6-a202b572f42d",
   "metadata": {},
   "outputs": [
    {
     "name": "stdout",
     "output_type": "stream",
     "text": [
      "a soma é  17\n"
     ]
    }
   ],
   "source": [
    "#Criando funções\n",
    "# def nome(argumentos): função\n",
    "def soma(elemento1, elemento2):\n",
    "    resultado=elemento1+elemento2\n",
    "    print('a soma é ',resultado)\n",
    "numero1=12\n",
    "numero2=5\n",
    "soma(numero1, numero2)\n"
   ]
  },
  {
   "cell_type": "code",
   "execution_count": 5,
   "id": "7b1d5a8c",
   "metadata": {},
   "outputs": [
    {
     "data": {
      "text/plain": [
       "12"
      ]
     },
     "execution_count": 5,
     "metadata": {},
     "output_type": "execute_result"
    }
   ],
   "source": [
    "numero1"
   ]
  },
  {
   "cell_type": "code",
   "execution_count": 10,
   "id": "383fa968-87ab-41dc-83c7-17fa89e05687",
   "metadata": {},
   "outputs": [
    {
     "data": {
      "text/plain": [
       "27"
      ]
     },
     "execution_count": 10,
     "metadata": {},
     "output_type": "execute_result"
    }
   ],
   "source": [
    "#Fixando parâmetros de funções\n",
    "def potencia(x,y=1):\n",
    "    resultado=x**y\n",
    "    return resultado\n",
    "\n",
    "potencia(3,3)"
   ]
  },
  {
   "cell_type": "code",
   "execution_count": 9,
   "id": "7052bad0",
   "metadata": {},
   "outputs": [
    {
     "ename": "NameError",
     "evalue": "name 'y' is not defined",
     "output_type": "error",
     "traceback": [
      "\u001b[1;31m---------------------------------------------------------------------------\u001b[0m",
      "\u001b[1;31mNameError\u001b[0m                                 Traceback (most recent call last)",
      "Cell \u001b[1;32mIn[9], line 1\u001b[0m\n\u001b[1;32m----> 1\u001b[0m \u001b[43my\u001b[49m\n",
      "\u001b[1;31mNameError\u001b[0m: name 'y' is not defined"
     ]
    }
   ],
   "source": [
    "y"
   ]
  },
  {
   "cell_type": "code",
   "execution_count": 21,
   "id": "21493890",
   "metadata": {},
   "outputs": [],
   "source": [
    "#erros\n",
    "def idade(i):\n",
    "    if i>=18: print('maior de idade')\n",
    "    else: prin('menor de idade')\n"
   ]
  },
  {
   "cell_type": "code",
   "execution_count": 19,
   "id": "57ae86b8",
   "metadata": {},
   "outputs": [
    {
     "ename": "NameError",
     "evalue": "name 'prin' is not defined",
     "output_type": "error",
     "traceback": [
      "\u001b[1;31m---------------------------------------------------------------------------\u001b[0m",
      "\u001b[1;31mNameError\u001b[0m                                 Traceback (most recent call last)",
      "Cell \u001b[1;32mIn[19], line 1\u001b[0m\n\u001b[1;32m----> 1\u001b[0m \u001b[43midade\u001b[49m\u001b[43m(\u001b[49m\u001b[38;5;241;43m1\u001b[39;49m\u001b[43m)\u001b[49m\n",
      "Cell \u001b[1;32mIn[17], line 4\u001b[0m, in \u001b[0;36midade\u001b[1;34m(i)\u001b[0m\n\u001b[0;32m      2\u001b[0m \u001b[38;5;28;01mdef\u001b[39;00m \u001b[38;5;21midade\u001b[39m(i):\n\u001b[0;32m      3\u001b[0m     \u001b[38;5;28;01mif\u001b[39;00m i\u001b[38;5;241m>\u001b[39m\u001b[38;5;241m=\u001b[39m\u001b[38;5;241m18\u001b[39m: \u001b[38;5;28mprint\u001b[39m(\u001b[38;5;124m'\u001b[39m\u001b[38;5;124mmaior de idade\u001b[39m\u001b[38;5;124m'\u001b[39m)\n\u001b[1;32m----> 4\u001b[0m     \u001b[38;5;28;01melse\u001b[39;00m: \u001b[43mprin\u001b[49m(\u001b[38;5;124m'\u001b[39m\u001b[38;5;124mmenor de idade\u001b[39m\u001b[38;5;124m'\u001b[39m)\n",
      "\u001b[1;31mNameError\u001b[0m: name 'prin' is not defined"
     ]
    }
   ],
   "source": [
    "idade(1)"
   ]
  },
  {
   "cell_type": "code",
   "execution_count": 23,
   "id": "b48c1378",
   "metadata": {},
   "outputs": [],
   "source": [
    "def soma(elemento1, elemento2):\n",
    "    resultado=elemento1+elemento2\n",
    "    return resultado"
   ]
  },
  {
   "cell_type": "code",
   "execution_count": 24,
   "id": "dab7bb23",
   "metadata": {},
   "outputs": [],
   "source": [
    "def compara(a,b):\n",
    "    if (a*2>soma(a,b)): print('a soma é menor que 2 vezes o primeiro valor')\n",
    "    else:print('a soma é maior que 2 vezes o primeiro valor')"
   ]
  },
  {
   "cell_type": "code",
   "execution_count": 27,
   "id": "6260f1cc",
   "metadata": {},
   "outputs": [
    {
     "name": "stdout",
     "output_type": "stream",
     "text": [
      "a soma é maior que 2 vezes o primeiro valor\n"
     ]
    }
   ],
   "source": [
    "compara(5,12)"
   ]
  },
  {
   "cell_type": "code",
   "execution_count": 35,
   "id": "2914e29e",
   "metadata": {},
   "outputs": [],
   "source": [
    "def funcao_data(dat):\n",
    "    from datetime import datetime\n",
    "    return datetime.strptime(dat, '%d/%m/%Y')"
   ]
  },
  {
   "cell_type": "code",
   "execution_count": 36,
   "id": "ab01389b",
   "metadata": {},
   "outputs": [
    {
     "data": {
      "text/plain": [
       "datetime.datetime(2024, 10, 22, 0, 0)"
      ]
     },
     "execution_count": 36,
     "metadata": {},
     "output_type": "execute_result"
    }
   ],
   "source": [
    "funcao_data('22/10/2024')"
   ]
  },
  {
   "cell_type": "code",
   "execution_count": 37,
   "id": "f5ddb743",
   "metadata": {},
   "outputs": [
    {
     "ename": "NameError",
     "evalue": "name 'datetime' is not defined",
     "output_type": "error",
     "traceback": [
      "\u001b[1;31m---------------------------------------------------------------------------\u001b[0m",
      "\u001b[1;31mNameError\u001b[0m                                 Traceback (most recent call last)",
      "Cell \u001b[1;32mIn[37], line 1\u001b[0m\n\u001b[1;32m----> 1\u001b[0m \u001b[43mdatetime\u001b[49m\u001b[38;5;241m.\u001b[39mstrptime(\u001b[38;5;124m'\u001b[39m\u001b[38;5;124m22/10/2024\u001b[39m\u001b[38;5;124m'\u001b[39m, \u001b[38;5;124m'\u001b[39m\u001b[38;5;132;01m%d\u001b[39;00m\u001b[38;5;124m/\u001b[39m\u001b[38;5;124m%\u001b[39m\u001b[38;5;124mm/\u001b[39m\u001b[38;5;124m%\u001b[39m\u001b[38;5;124mY\u001b[39m\u001b[38;5;124m'\u001b[39m)\n",
      "\u001b[1;31mNameError\u001b[0m: name 'datetime' is not defined"
     ]
    }
   ],
   "source": [
    "datetime.strptime('22/10/2024', '%d/%m/%Y')"
   ]
  },
  {
   "cell_type": "code",
   "execution_count": 38,
   "id": "082adbf7-8606-4610-8e5d-d5d3c3b3bb75",
   "metadata": {},
   "outputs": [
    {
     "data": {
      "text/plain": [
       "27"
      ]
     },
     "execution_count": 38,
     "metadata": {},
     "output_type": "execute_result"
    }
   ],
   "source": [
    "#Função anônima lambda \n",
    "# lambda argumentos: função simples\n",
    "cubo=lambda x:x**3\n",
    "cubo(3)"
   ]
  },
  {
   "cell_type": "code",
   "execution_count": 39,
   "id": "fcdb8455",
   "metadata": {},
   "outputs": [],
   "source": [
    "def cubo2(x):\n",
    "    return x**3"
   ]
  },
  {
   "cell_type": "code",
   "execution_count": 40,
   "id": "1039a149",
   "metadata": {},
   "outputs": [
    {
     "data": {
      "text/plain": [
       "27"
      ]
     },
     "execution_count": 40,
     "metadata": {},
     "output_type": "execute_result"
    }
   ],
   "source": [
    "cubo2(3)"
   ]
  },
  {
   "cell_type": "code",
   "execution_count": 41,
   "id": "bac94be5-87e8-49a3-89eb-14c59cbd801b",
   "metadata": {},
   "outputs": [
    {
     "name": "stdout",
     "output_type": "stream",
     "text": [
      "[1, 8, 27, 64]\n"
     ]
    }
   ],
   "source": [
    "#Função integrada MAP\n",
    "# map(função pronta, iteraveis)\n",
    "x=map(cubo,(1,2,3,4))\n",
    "print(list(x))"
   ]
  },
  {
   "cell_type": "code",
   "execution_count": 43,
   "id": "5bcb5320",
   "metadata": {},
   "outputs": [
    {
     "data": {
      "text/plain": [
       "<map at 0x24d92822290>"
      ]
     },
     "execution_count": 43,
     "metadata": {},
     "output_type": "execute_result"
    }
   ],
   "source": [
    "x"
   ]
  },
  {
   "cell_type": "code",
   "execution_count": 42,
   "id": "116cba9f",
   "metadata": {},
   "outputs": [
    {
     "data": {
      "text/plain": [
       "map"
      ]
     },
     "execution_count": 42,
     "metadata": {},
     "output_type": "execute_result"
    }
   ],
   "source": [
    "type(x)"
   ]
  },
  {
   "cell_type": "markdown",
   "id": "3636ec33-77a2-4b3a-b088-c222eff0183e",
   "metadata": {},
   "source": [
    "# Date/Time"
   ]
  },
  {
   "cell_type": "code",
   "execution_count": 46,
   "id": "d89a22a5",
   "metadata": {},
   "outputs": [
    {
     "name": "stdout",
     "output_type": "stream",
     "text": [
      "Requirement already satisfied: datetime in c:\\users\\gabriel\\appdata\\local\\programs\\python\\python312\\lib\\site-packages (5.5)\n",
      "Requirement already satisfied: zope.interface in c:\\users\\gabriel\\appdata\\local\\programs\\python\\python312\\lib\\site-packages (from datetime) (7.1.0)\n",
      "Requirement already satisfied: pytz in c:\\users\\gabriel\\appdata\\local\\programs\\python\\python312\\lib\\site-packages (from datetime) (2024.2)\n",
      "Requirement already satisfied: setuptools in c:\\users\\gabriel\\appdata\\local\\programs\\python\\python312\\lib\\site-packages (from zope.interface->datetime) (75.2.0)\n",
      "Note: you may need to restart the kernel to use updated packages.\n"
     ]
    }
   ],
   "source": [
    "pip install datetime"
   ]
  },
  {
   "cell_type": "code",
   "execution_count": 48,
   "id": "6d7c648d-398d-4c98-97d7-b61be8c4fb32",
   "metadata": {},
   "outputs": [],
   "source": [
    "#importando de subibliotecas nativas\n",
    "#date\n",
    "from datetime import date\n",
    "#datetime\n",
    "from datetime import datetime as dt"
   ]
  },
  {
   "cell_type": "code",
   "execution_count": 51,
   "id": "94203aa7-758d-4a90-93a7-0f6dca150dc6",
   "metadata": {},
   "outputs": [
    {
     "data": {
      "text/plain": [
       "datetime.datetime(2024, 10, 22, 21, 15, 42, 496149)"
      ]
     },
     "execution_count": 51,
     "metadata": {},
     "output_type": "execute_result"
    }
   ],
   "source": [
    "#today\n",
    "date.today()\n",
    "dt.today()\n",
    "# #now\n",
    "dt.now()"
   ]
  },
  {
   "cell_type": "code",
   "execution_count": 52,
   "id": "41eb9ed6",
   "metadata": {},
   "outputs": [
    {
     "ename": "NameError",
     "evalue": "name 'datetime' is not defined",
     "output_type": "error",
     "traceback": [
      "\u001b[1;31m---------------------------------------------------------------------------\u001b[0m",
      "\u001b[1;31mNameError\u001b[0m                                 Traceback (most recent call last)",
      "Cell \u001b[1;32mIn[52], line 1\u001b[0m\n\u001b[1;32m----> 1\u001b[0m \u001b[43mdatetime\u001b[49m\u001b[38;5;241m.\u001b[39mnow()\n",
      "\u001b[1;31mNameError\u001b[0m: name 'datetime' is not defined"
     ]
    }
   ],
   "source": [
    "datetime.now()"
   ]
  },
  {
   "cell_type": "code",
   "execution_count": 53,
   "id": "8fabe302",
   "metadata": {},
   "outputs": [],
   "source": [
    "hoje=dt.today()"
   ]
  },
  {
   "cell_type": "code",
   "execution_count": 58,
   "id": "dd5840a6-68d6-4fae-8360-48fdb7c9f4da",
   "metadata": {},
   "outputs": [
    {
     "data": {
      "text/plain": [
       "datetime.datetime(2024, 6, 20, 0, 0)"
      ]
     },
     "execution_count": 58,
     "metadata": {},
     "output_type": "execute_result"
    }
   ],
   "source": [
    "#formatação\n",
    "#strftime - out\n",
    "hoje.strftime('%d/%m/%Y - %H:%M')\n",
    "#strptime - in\n",
    "data_exemplo=dt.strptime('20/06/2024','%d/%m/%Y')\n",
    "data_exemplo"
   ]
  },
  {
   "cell_type": "code",
   "execution_count": 62,
   "id": "f787304b-a8ed-4922-82c6-d86d09f319e2",
   "metadata": {},
   "outputs": [
    {
     "name": "stdout",
     "output_type": "stream",
     "text": [
      "2024-06-20 00:00:00\n",
      "2024-06-19 00:00:00\n"
     ]
    }
   ],
   "source": [
    "#manipulação\n",
    "#acesso aos compoentes de data\n",
    "data_exemplo.month\n",
    "#timedelta \n",
    "from datetime import timedelta\n",
    "print(data_exemplo)\n",
    "print(data_exemplo-timedelta(days=1))"
   ]
  },
  {
   "cell_type": "code",
   "execution_count": 63,
   "id": "21d2506a",
   "metadata": {},
   "outputs": [
    {
     "data": {
      "text/plain": [
       "3"
      ]
     },
     "execution_count": 63,
     "metadata": {},
     "output_type": "execute_result"
    }
   ],
   "source": [
    "data_exemplo.weekday()"
   ]
  }
 ],
 "metadata": {
  "kernelspec": {
   "display_name": "Python 3",
   "language": "python",
   "name": "python3"
  },
  "language_info": {
   "codemirror_mode": {
    "name": "ipython",
    "version": 3
   },
   "file_extension": ".py",
   "mimetype": "text/x-python",
   "name": "python",
   "nbconvert_exporter": "python",
   "pygments_lexer": "ipython3",
   "version": "3.12.4"
  }
 },
 "nbformat": 4,
 "nbformat_minor": 5
}
