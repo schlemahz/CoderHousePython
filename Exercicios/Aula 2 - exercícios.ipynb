{
 "cells": [
  {
   "cell_type": "markdown",
   "metadata": {},
   "source": [
    "Aula 2 - Mão na massa"
   ]
  },
  {
   "cell_type": "code",
   "execution_count": 13,
   "metadata": {},
   "outputs": [
    {
     "name": "stdout",
     "output_type": "stream",
     "text": [
      "o valor do saldo atual é 870.60\n",
      "o valor do saldo atual é 870.60\n",
      "o valor do saldo atual é 870.60\n",
      "o valor do saldo atual é 870.6\n"
     ]
    }
   ],
   "source": [
    "#Exercício 1\n",
    "saldo = 950.60 #valor inicial\n",
    "saque = float(input('Digite o valor de saque: ')) #entrada pra o valor de saque com conversão para float\n",
    "saldo = saldo-saque #cálculo do novo valor em conta\n",
    "print( f'o valor do saldo atual é {saldo:.2f}') #informando o valor do saldo usando f\n",
    "print('o valor do saldo atual é {0:.2f}'.format(saldo)) #informando o valor do saldo usando format\n",
    "print('o valor do saldo atual é %.2f' % saldo) #informando o valor do saldo usando %f\n",
    "print('o valor do saldo atual é',saldo) #informando o valor do saldo sem usar formatadores"
   ]
  },
  {
   "cell_type": "code",
   "execution_count": 15,
   "metadata": {},
   "outputs": [
    {
     "name": "stdout",
     "output_type": "stream",
     "text": [
      "['banana', 'morango', 'maça', 'laranja']\n"
     ]
    }
   ],
   "source": [
    "#Exercício 2\n",
    "lista_fruta=[] #criando lista vazia\n",
    "lista_fruta.append(input('Digite uma fruta: ')) #inserção de fruta\n",
    "lista_fruta.append(input('Digite uma fruta: ')) #inserção de fruta\n",
    "lista_fruta.append(input('Digite uma fruta: ')) #inserção de fruta\n",
    "lista_fruta.append(input('Digite uma fruta: ')) #inserção de fruta\n",
    "lista_fruta.append(input('Digite uma fruta: ')) #inserção de fruta\n",
    "lista_fruta=list(set(lista_fruta)) #remoção de duplicados usando a função set() e voltando ao formato do tipo list\n",
    "print(lista_fruta)"
   ]
  },
  {
   "cell_type": "code",
   "execution_count": 16,
   "metadata": {},
   "outputs": [
    {
     "name": "stdout",
     "output_type": "stream",
     "text": [
      "meu deus\n",
      "Resultado metodo 1:  m** d**s\n"
     ]
    }
   ],
   "source": [
    "#Exercício 3\n",
    "frase=input('Digite uma frase: ') #inserção da frase\n",
    "print(frase)\n",
    "#metodo 1 - direto\n",
    "frase1=frase.replace('a','*').replace('e', '*').replace('i', '*').replace('o', '*').replace('u', '*') #substituindo vogais por *\n",
    "print('Resultado metodo 12: ',frase1) \n"
   ]
  },
  {
   "cell_type": "code",
   "execution_count": 17,
   "metadata": {},
   "outputs": [
    {
     "name": "stdout",
     "output_type": "stream",
     "text": [
      "meu deus\n",
      "m*u d*us\n",
      "m*u d*us\n",
      "m*u d*us\n",
      "m** d**s\n"
     ]
    }
   ],
   "source": [
    "#metodo 1 - progressivo\n",
    "frase2=frase.replace('a','*') #substituindo vogais por *\n",
    "print(frase2)\n",
    "frase2=frase2.replace('e', '*') #substituindo vogais por *\n",
    "print(frase2)\n",
    "frase2=frase2.replace('i', '*') #substituindo vogais por *\n",
    "print(frase2)\n",
    "frase2=frase2.replace('o', '*') #substituindo vogais por *\n",
    "print(frase2)\n",
    "frase2=frase2.replace('u', '*') #substituindo vogais por *\n",
    "print(frase2)\n",
    "print('Resultado metodo 2: ',frase2) \n"
   ]
  }
 ],
 "metadata": {
  "kernelspec": {
   "display_name": "Python 3",
   "language": "python",
   "name": "python3"
  },
  "language_info": {
   "codemirror_mode": {
    "name": "ipython",
    "version": 3
   },
   "file_extension": ".py",
   "mimetype": "text/x-python",
   "name": "python",
   "nbconvert_exporter": "python",
   "pygments_lexer": "ipython3",
   "version": "3.12.4"
  }
 },
 "nbformat": 4,
 "nbformat_minor": 2
}
