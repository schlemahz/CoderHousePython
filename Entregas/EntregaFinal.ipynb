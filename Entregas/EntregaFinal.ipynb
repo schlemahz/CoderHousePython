{
 "cells": [
  {
   "cell_type": "markdown",
   "metadata": {},
   "source": [
    "**1. Configuração do Virtual Environment**\n",
    "\n",
    "1.Criar o Virtual Environment: Execute os comandos abaixo no terminal na pasta do projeto:\n",
    "\n",
    "*python -m venv venv*\n",
    "\n",
    "2.Ativar o Virtual Environment:\n",
    "\n",
    "Windows: *venv\\Scripts\\activate*\n",
    "\n",
    "Linux/Mac: *source venv/bin/activate*\n",
    "\n",
    "3.Instalar as Bibliotecas Necessárias:"
   ]
  },
  {
   "cell_type": "code",
   "execution_count": 3,
   "metadata": {},
   "outputs": [
    {
     "name": "stdout",
     "output_type": "stream",
     "text": [
      "Requirement already satisfied: pandas in c:\\users\\schle\\appdata\\local\\packages\\pythonsoftwarefoundation.python.3.9_qbz5n2kfra8p0\\localcache\\local-packages\\python39\\site-packages (2.2.3)\n",
      "Requirement already satisfied: requests in c:\\users\\schle\\appdata\\local\\packages\\pythonsoftwarefoundation.python.3.9_qbz5n2kfra8p0\\localcache\\local-packages\\python39\\site-packages (2.32.3)\n",
      "Requirement already satisfied: plyer in c:\\users\\schle\\appdata\\local\\packages\\pythonsoftwarefoundation.python.3.9_qbz5n2kfra8p0\\localcache\\local-packages\\python39\\site-packages (2.1.0)\n",
      "Requirement already satisfied: numpy>=1.22.4 in c:\\users\\schle\\appdata\\local\\packages\\pythonsoftwarefoundation.python.3.9_qbz5n2kfra8p0\\localcache\\local-packages\\python39\\site-packages (from pandas) (2.0.2)\n",
      "Requirement already satisfied: python-dateutil>=2.8.2 in c:\\users\\schle\\appdata\\local\\packages\\pythonsoftwarefoundation.python.3.9_qbz5n2kfra8p0\\localcache\\local-packages\\python39\\site-packages (from pandas) (2.9.0.post0)\n",
      "Requirement already satisfied: pytz>=2020.1 in c:\\users\\schle\\appdata\\local\\packages\\pythonsoftwarefoundation.python.3.9_qbz5n2kfra8p0\\localcache\\local-packages\\python39\\site-packages (from pandas) (2024.2)\n",
      "Requirement already satisfied: tzdata>=2022.7 in c:\\users\\schle\\appdata\\local\\packages\\pythonsoftwarefoundation.python.3.9_qbz5n2kfra8p0\\localcache\\local-packages\\python39\\site-packages (from pandas) (2024.2)\n",
      "Requirement already satisfied: charset-normalizer<4,>=2 in c:\\users\\schle\\appdata\\local\\packages\\pythonsoftwarefoundation.python.3.9_qbz5n2kfra8p0\\localcache\\local-packages\\python39\\site-packages (from requests) (3.4.0)\n",
      "Requirement already satisfied: idna<4,>=2.5 in c:\\users\\schle\\appdata\\local\\packages\\pythonsoftwarefoundation.python.3.9_qbz5n2kfra8p0\\localcache\\local-packages\\python39\\site-packages (from requests) (3.10)\n",
      "Requirement already satisfied: urllib3<3,>=1.21.1 in c:\\users\\schle\\appdata\\local\\packages\\pythonsoftwarefoundation.python.3.9_qbz5n2kfra8p0\\localcache\\local-packages\\python39\\site-packages (from requests) (2.2.3)\n",
      "Requirement already satisfied: certifi>=2017.4.17 in c:\\users\\schle\\appdata\\local\\packages\\pythonsoftwarefoundation.python.3.9_qbz5n2kfra8p0\\localcache\\local-packages\\python39\\site-packages (from requests) (2024.8.30)\n",
      "Requirement already satisfied: six>=1.5 in c:\\users\\schle\\appdata\\local\\packages\\pythonsoftwarefoundation.python.3.9_qbz5n2kfra8p0\\localcache\\local-packages\\python39\\site-packages (from python-dateutil>=2.8.2->pandas) (1.17.0)\n",
      "Note: you may need to restart the kernel to use updated packages.\n"
     ]
    }
   ],
   "source": [
    "pip install pandas requests plyer"
   ]
  },
  {
   "cell_type": "markdown",
   "metadata": {},
   "source": [
    "4.Salvar as Dependências no *requirements.txt*:"
   ]
  },
  {
   "cell_type": "code",
   "execution_count": 6,
   "metadata": {},
   "outputs": [
    {
     "name": "stdout",
     "output_type": "stream",
     "text": [
      "Note: you may need to restart the kernel to use updated packages.\n"
     ]
    }
   ],
   "source": [
    "pip freeze > requirements.txt"
   ]
  },
  {
   "cell_type": "markdown",
   "metadata": {},
   "source": [
    "**2. Pipeline de Dados Completo com Sistema de Alerta**\n",
    "\n",
    "O código final do pipeline já incorpora o sistema de alerta usando o módulo plyer:"
   ]
  },
  {
   "cell_type": "code",
   "execution_count": 24,
   "metadata": {},
   "outputs": [
    {
     "name": "stdout",
     "output_type": "stream",
     "text": [
      "Dados carregados no banco com sucesso.\n",
      "Tabela continentes contém 250 registros.\n",
      "Tabela moedas contém 250 registros.\n",
      "Tabela idiomas contém 250 registros.\n"
     ]
    }
   ],
   "source": [
    "import requests\n",
    "import pandas as pd\n",
    "import sqlite3\n",
    "from plyer import notification\n",
    "\n",
    "# Função de alerta\n",
    "def alerta(titulo, mensagem):\n",
    "    notification.notify(\n",
    "        title=titulo,\n",
    "        message=mensagem,\n",
    "        app_name=\"Data Pipeline\",\n",
    "        timeout=10\n",
    "    )\n",
    "\n",
    "# 1. Extração de Dados\n",
    "def extrair_dados():\n",
    "    url = \"https://restcountries.com/v3.1/all\"\n",
    "    try:\n",
    "        response = requests.get(url)\n",
    "        if response.status_code == 200:\n",
    "            data = response.json()\n",
    "            # Criar DataFrame com colunas relevantes\n",
    "            countries = []\n",
    "            for country in data:\n",
    "                name = country.get(\"name\", {}).get(\"common\", \"Unknown\")\n",
    "                region = country.get(\"region\", \"Unknown\")\n",
    "                currencies = \"; \".join(country.get(\"currencies\", {}).keys())\n",
    "                languages = \"; \".join(country.get(\"languages\", {}).values()) if \"languages\" in country else \"Unknown\"\n",
    "                countries.append({\n",
    "                    \"country\": name,\n",
    "                    \"continent\": region,\n",
    "                    \"currencies\": currencies,\n",
    "                    \"languages\": languages\n",
    "                })\n",
    "            return pd.DataFrame(countries)\n",
    "        else:\n",
    "            alerta(\"Erro na API\", f\"Código de status {response.status_code}\")\n",
    "            print(f\"Erro na API: Código {response.status_code}\")\n",
    "            return None\n",
    "    except Exception as e:\n",
    "        alerta(\"Erro de Conexão\", str(e))\n",
    "        print(f\"Erro de conexão: {str(e)}\")\n",
    "        return None\n",
    "\n",
    "# 2. Tratamento de Dados\n",
    "def tratar_dados(df):\n",
    "    # Tabela Continentes\n",
    "    df_continentes = df[[\"country\", \"continent\"]].copy()\n",
    "    df_continentes[\"continent\"] = df_continentes[\"continent\"].fillna(\"Unknown\")\n",
    "\n",
    "    # Tabela Moedas\n",
    "    if \"currencies\" in df.columns:\n",
    "        df_moedas = df[[\"country\", \"currencies\"]].rename(columns={\"currencies\": \"currency\"}).dropna()\n",
    "    else:\n",
    "        alerta(\"Erro no Tratamento\", \"A coluna 'currencies' não está presente nos dados.\")\n",
    "        df_moedas = pd.DataFrame(columns=[\"country\", \"currency\"])\n",
    "\n",
    "    # Tabela Idiomas\n",
    "    if \"languages\" in df.columns:\n",
    "        df_idiomas = df[[\"country\", \"languages\"]].rename(columns={\"languages\": \"language\"}).dropna()\n",
    "    else:\n",
    "        alerta(\"Erro no Tratamento\", \"A coluna 'languages' não está presente nos dados.\")\n",
    "        df_idiomas = pd.DataFrame(columns=[\"country\", \"language\"])\n",
    "\n",
    "    return df_continentes, df_moedas, df_idiomas\n",
    "\n",
    "# 3. Carga no Banco de Dados\n",
    "def carregar_banco(df_continentes, df_moedas, df_idiomas, db_name=\"dados_tratados.db\"):\n",
    "    conn = sqlite3.connect(db_name)\n",
    "    try:\n",
    "        df_continentes.to_sql(\"continentes\", conn, if_exists=\"replace\", index=False)\n",
    "        df_moedas.to_sql(\"moedas\", conn, if_exists=\"replace\", index=False)\n",
    "        df_idiomas.to_sql(\"idiomas\", conn, if_exists=\"replace\", index=False)\n",
    "        alerta(\"Carga Completa\", f\"Dados salvos no banco {db_name}.\")\n",
    "        print(\"Dados carregados no banco com sucesso.\")\n",
    "    except Exception as e:\n",
    "        alerta(\"Erro na Carga\", f\"Erro ao salvar os dados no banco: {str(e)}\")\n",
    "        print(f\"Erro ao salvar os dados no banco: {str(e)}\")\n",
    "    finally:\n",
    "        conn.close()\n",
    "\n",
    "# 4. Validação\n",
    "def validar_dados(db_name=\"dados_tratados.db\"):\n",
    "    conn = sqlite3.connect(db_name)\n",
    "    cursor = conn.cursor()\n",
    "    try:\n",
    "        for tabela in [\"continentes\", \"moedas\", \"idiomas\"]:\n",
    "            cursor.execute(f\"SELECT COUNT(*) FROM {tabela}\")\n",
    "            resultado = cursor.fetchone()[0]\n",
    "            print(f\"Tabela {tabela} contém {resultado} registros.\")\n",
    "    except Exception as e:\n",
    "        print(f\"Erro na validação dos dados: {str(e)}\")\n",
    "    finally:\n",
    "        conn.close()\n",
    "\n",
    "# Execução do Pipeline\n",
    "if __name__ == \"__main__\":\n",
    "    try:\n",
    "        # Extração\n",
    "        df_raw = extrair_dados()\n",
    "        if df_raw is not None:\n",
    "            # Tratamento\n",
    "            df_continentes, df_moedas, df_idiomas = tratar_dados(df_raw)\n",
    "\n",
    "            # Carga\n",
    "            carregar_banco(df_continentes, df_moedas, df_idiomas)\n",
    "\n",
    "            # Validação\n",
    "            validar_dados()\n",
    "        else:\n",
    "            alerta(\"Erro no Pipeline\", \"Nenhum dado foi extraído.\")\n",
    "    except Exception as e:\n",
    "        alerta(\"Erro no Pipeline\", str(e))\n",
    "        print(\"Erro no Pipeline\", str(e))\n"
   ]
  }
 ],
 "metadata": {
  "kernelspec": {
   "display_name": "Python 3",
   "language": "python",
   "name": "python3"
  },
  "language_info": {
   "codemirror_mode": {
    "name": "ipython",
    "version": 3
   },
   "file_extension": ".py",
   "mimetype": "text/x-python",
   "name": "python",
   "nbconvert_exporter": "python",
   "pygments_lexer": "ipython3",
   "version": "3.9.13"
  }
 },
 "nbformat": 4,
 "nbformat_minor": 2
}
