{
 "cells": [
  {
   "cell_type": "code",
   "execution_count": 3,
   "metadata": {},
   "outputs": [
    {
     "name": "stdout",
     "output_type": "stream",
     "text": [
      "Collecting plyer\n",
      "  Downloading plyer-2.1.0-py2.py3-none-any.whl.metadata (61 kB)\n",
      "Downloading plyer-2.1.0-py2.py3-none-any.whl (142 kB)\n",
      "Installing collected packages: plyer\n",
      "Successfully installed plyer-2.1.0\n"
     ]
    }
   ],
   "source": [
    "!pip install plyer"
   ]
  },
  {
   "cell_type": "markdown",
   "metadata": {},
   "source": [
    "Vamos utilizar a função notification.notify() para criar uma função de alerta de falha de carregamento de base de dados (isso será usado no projeto final)"
   ]
  },
  {
   "cell_type": "code",
   "execution_count": 7,
   "metadata": {},
   "outputs": [],
   "source": [
    "from plyer import notification\n",
    "\n",
    "def alerta_falha_carregamento():\n",
    "    notification.notify(\n",
    "        title=\"Erro no Carregamento de Dados\",\n",
    "        message=\"Falha ao carregar a base de dados. Verifique a conexão ou o arquivo de entrada.\",\n",
    "        app_name=\"Sistema de Carregamento\",\n",
    "        timeout=10  # duração da notificação em segundos\n",
    "    )\n",
    "\n",
    "# Chame a função quando a falha de carregamento ocorrer\n",
    "alerta_falha_carregamento()"
   ]
  },
  {
   "cell_type": "code",
   "execution_count": 8,
   "metadata": {},
   "outputs": [],
   "source": [
    "from plyer import notification\n",
    "from datetime import datetime\n",
    "\n",
    "def alerta(nivel, base, etapa):\n",
    "    # Definindo o título com base no nível de alerta\n",
    "    if nivel == 1:\n",
    "        titulo = \"Alerta Baixo\"\n",
    "    elif nivel == 2:\n",
    "        titulo = \"Alerta Médio\"\n",
    "    elif nivel == 3:\n",
    "        titulo = \"Alerta Alto\"\n",
    "    else:\n",
    "        titulo = \"Alerta Desconhecido\"\n",
    "\n",
    "    # Obtendo a data e hora atuais\n",
    "    data_atual = datetime.now().strftime(\"%Y-%m-%d %H:%M:%S.%f\")\n",
    "\n",
    "    # Mensagem de notificação\n",
    "    mensagem = f\"Falha no carregamento da base {base} na etapa {etapa}.\\n{data_atual}\"\n",
    "\n",
    "    # Exibindo a notificação\n",
    "    notification.notify(\n",
    "        title=titulo,\n",
    "        message=mensagem,\n",
    "        app_name=\"Sistema de Carregamento\",\n",
    "        timeout=10  # duração da notificação em segundos\n",
    "    )\n",
    "\n",
    "# Exemplo de uso\n",
    "alerta(nivel=2, base=\"CLIENTES\", etapa=\"EXTRACAO\")\n"
   ]
  }
 ],
 "metadata": {
  "kernelspec": {
   "display_name": "Python 3",
   "language": "python",
   "name": "python3"
  },
  "language_info": {
   "codemirror_mode": {
    "name": "ipython",
    "version": 3
   },
   "file_extension": ".py",
   "mimetype": "text/x-python",
   "name": "python",
   "nbconvert_exporter": "python",
   "pygments_lexer": "ipython3",
   "version": "3.9.13"
  }
 },
 "nbformat": 4,
 "nbformat_minor": 2
}
