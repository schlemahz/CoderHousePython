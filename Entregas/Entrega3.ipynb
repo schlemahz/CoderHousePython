{
 "cells": [
  {
   "cell_type": "markdown",
   "metadata": {},
   "source": [
    "Desafio Nintendo\n",
    "\n",
    "Aspectos a incluir\n",
    "\n",
    "Abra o arquivo \"best-selling game consoles.xlsx\" em um dataframe.\n",
    "Substitua a palavra \"NES\" por \"Nitendinho\" no nome dos consoles e deixe todos os nomes em maiúsculos.\n",
    "Filtre o nome dos consoles com data de release depois de 2010.\n",
    "De um describe e info da base, substitua os missing values pela string \"missing\".\n",
    "Filtre os consoles que foram descontinuados a menos de 2 anos da data de release."
   ]
  },
  {
   "cell_type": "code",
   "execution_count": 1,
   "metadata": {},
   "outputs": [
    {
     "name": "stdout",
     "output_type": "stream",
     "text": [
      "Consoles lançados após 2010:\n",
      "2                      NINTENDO SWITCH\n",
      "5                        PLAYSTATION 4\n",
      "12                        NINTENDO 3DS\n",
      "14                            XBOX ONE\n",
      "19                       PLAYSTATION 5\n",
      "23                     XBOX SERIES X/S\n",
      "24                               WII U\n",
      "25                    PLAYSTATION VITA\n",
      "33    SUPER NITENDINHO CLASSIC EDITION\n",
      "35          NITENDINHO CLASSIC EDITION\n",
      "Name: Console Name, dtype: object\n",
      "\n",
      "Consoles descontinuados em menos de 2 anos após o lançamento:\n",
      "                        Console Name  Released Year  Discontinuation Year\n",
      "2                    NINTENDO SWITCH           2017                     0\n",
      "5                      PLAYSTATION 4           2013                     0\n",
      "19                     PLAYSTATION 5           2020                     0\n",
      "23                   XBOX SERIES X/S           2020                     0\n",
      "33  SUPER NITENDINHO CLASSIC EDITION           2017                  2018\n",
      "44                  MAGNAVOX ODYSSEY           1978                  1975\n"
     ]
    }
   ],
   "source": [
    "import pandas as pd\n",
    "\n",
    "# Abrir o arquivo Excel na aba \"consoles\"\n",
    "file_path = \"best-selling game consoles.xlsx\"\n",
    "consoles_df = pd.read_excel(file_path, sheet_name='consoles')\n",
    "\n",
    "# Substituir \"NES\" por \"Nitendinho\" e transformar os nomes em maiúsculas\n",
    "consoles_df['Console Name'] = consoles_df['Console Name'].str.replace('NES', 'Nitendinho', regex=False).str.upper()\n",
    "\n",
    "# Filtrar os consoles lançados após 2010\n",
    "filtered_after_2010 = consoles_df[consoles_df['Released Year'] > 2010]\n",
    "filtered_after_2010_names = filtered_after_2010['Console Name']\n",
    "\n",
    "# Filtrar os consoles descontinuados em menos de 2 anos após o lançamento\n",
    "filtered_discontinued_early = consoles_df[\n",
    "    (consoles_df['Discontinuation Year'] - consoles_df['Released Year']) < 2\n",
    "][['Console Name', 'Released Year', 'Discontinuation Year']]\n",
    "\n",
    "# Substituir valores ausentes por \"missing\"\n",
    "consoles_df_filled = consoles_df.fillna('missing')\n",
    "\n",
    "# Exibir os resultados\n",
    "print(\"Consoles lançados após 2010:\")\n",
    "print(filtered_after_2010_names)\n",
    "\n",
    "print(\"\\nConsoles descontinuados em menos de 2 anos após o lançamento:\")\n",
    "print(filtered_discontinued_early)\n",
    "\n",
    "# Salvar os DataFrames filtrados em novos arquivos Excel (opcional)\n",
    "filtered_after_2010_names.to_excel(\"filtered_after_2010_names.xlsx\", index=False)\n",
    "filtered_discontinued_early.to_excel(\"filtered_discontinued_early.xlsx\", index=False)\n"
   ]
  }
 ],
 "metadata": {
  "kernelspec": {
   "display_name": "Python 3",
   "language": "python",
   "name": "python3"
  },
  "language_info": {
   "codemirror_mode": {
    "name": "ipython",
    "version": 3
   },
   "file_extension": ".py",
   "mimetype": "text/x-python",
   "name": "python",
   "nbconvert_exporter": "python",
   "pygments_lexer": "ipython3",
   "version": "3.9.13"
  }
 },
 "nbformat": 4,
 "nbformat_minor": 2
}
