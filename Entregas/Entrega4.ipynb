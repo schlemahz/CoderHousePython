{
 "cells": [
  {
   "cell_type": "markdown",
   "metadata": {},
   "source": [
    "DESAFIO COMPLEMENTAR\n",
    "\n",
    "1.Usando o arquivo \"best-selling game consoles.xlsx\" conte quantos consoles tem na base por companhias.\n",
    "\n",
    "2.Ordene o resultado anterior pela quantidade de consoles por companhia de forma decrescente. \n",
    "\n",
    "3.Sobre o dataframe anterior, adicione a coluna \"Market Value\" presente na tabela do arquivo \"company.txt\". \n",
    "\n",
    "4.Qual o valor médio de Market Value por console? "
   ]
  },
  {
   "cell_type": "code",
   "execution_count": 1,
   "metadata": {},
   "outputs": [
    {
     "name": "stdout",
     "output_type": "stream",
     "text": [
      "                    Company  Qtd  Market Value  Market Value per Console\n",
      "0                  Nintendo   17       22615.0               1330.294118\n",
      "1                      Sony    7        7177.0               1025.285714\n",
      "2                      Sega    7       10391.0               1484.428571\n",
      "3                 Microsoft    4        3154.0                788.500000\n",
      "4                     Atari    4        4160.0               1040.000000\n",
      "5                    Tectoy    2           NaN                       NaN\n",
      "6                    Coleco    2         767.0                383.500000\n",
      "7   NEC/Hudson Soft[note 6]    1         547.0                547.000000\n",
      "8              Micro Genius    1         689.0                689.000000\n",
      "9                    Mattel    1         548.0                548.000000\n",
      "10                   Bandai    1         913.0                913.000000\n",
      "11                    Nokia    1         637.0                637.000000\n",
      "12         Magnavox/Philips    1         693.0                693.000000\n",
      "13                      NEC    1         387.0                387.000000\n",
      "14                  Philips    1         899.0                899.000000\n",
      "Valor médio de Market Value por console: 811.79\n"
     ]
    }
   ],
   "source": [
    "import pandas as pd\n",
    "\n",
    "# Carregar o arquivo Excel\n",
    "file_path = 'best-selling game consoles.xlsx'\n",
    "\n",
    "# Carregar a planilha \"consoles\"\n",
    "consoles_df = pd.read_excel(file_path, sheet_name='consoles')\n",
    "\n",
    "# Etapa 1: Contar o número de consoles por companhia\n",
    "console_counts = consoles_df['Company'].value_counts().reset_index()\n",
    "console_counts.columns = ['Company', 'Qtd']\n",
    "\n",
    "# Etapa 2: Ordenar os resultados pela quantidade de consoles de forma decrescente\n",
    "console_counts_sorted = console_counts.sort_values(by='Qtd', ascending=False).reset_index(drop=True)\n",
    "\n",
    "# Criar o dataframe de \"Market Value\" baseado nos dados fornecidos\n",
    "market_values = {\n",
    "    \"Company\": [\"Nintendo\", \"Sega\", \"Sony\", \"Atari\", \"Microsoft\", \"Coleco\", \"TecToy\", \n",
    "                \"Bandai\", \"Magnavox/Philips\", \"Mattel\", \"Micro Genius\", \"NEC\", \n",
    "                \"NEC/Hudson Soft[note 6]\", \"Nokia\", \"Philips\"],\n",
    "    \"Market Value\": [22615, 10391, 7177, 4160, 3154, 767, 2538, 913, 693, 548, 689, 387, 547, 637, 899]\n",
    "}\n",
    "market_values_df = pd.DataFrame(market_values)\n",
    "\n",
    "# Etapa 3: Adicionar a coluna \"Market Value\" ao dataframe de consoles\n",
    "merged_console_data = pd.merge(console_counts_sorted, market_values_df, on='Company', how='left')\n",
    "\n",
    "# Etapa 4: Calcular o valor médio de \"Market Value\" por console\n",
    "merged_console_data['Market Value per Console'] = merged_console_data['Market Value'] / merged_console_data['Qtd']\n",
    "average_market_value_per_console = merged_console_data['Market Value per Console'].mean()\n",
    "\n",
    "# Exibir o dataframe final\n",
    "print(merged_console_data)\n",
    "\n",
    "# Exibir o valor médio de \"Market Value\" por console\n",
    "print(f\"Valor médio de Market Value por console: {average_market_value_per_console:.2f}\")\n"
   ]
  }
 ],
 "metadata": {
  "kernelspec": {
   "display_name": "Python 3",
   "language": "python",
   "name": "python3"
  },
  "language_info": {
   "codemirror_mode": {
    "name": "ipython",
    "version": 3
   },
   "file_extension": ".py",
   "mimetype": "text/x-python",
   "name": "python",
   "nbconvert_exporter": "python",
   "pygments_lexer": "ipython3",
   "version": "3.9.13"
  }
 },
 "nbformat": 4,
 "nbformat_minor": 2
}
