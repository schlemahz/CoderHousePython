{
 "cells": [
  {
   "cell_type": "code",
   "execution_count": 1,
   "metadata": {},
   "outputs": [
    {
     "name": "stdout",
     "output_type": "stream",
     "text": [
      "Base Tratada:\n",
      "         country  continent  population\n",
      "0  South Georgia  Antarctic          30\n",
      "1        Grenada   Americas      112519\n",
      "2    Switzerland     Europe     8654622\n",
      "3   Sierra Leone     Africa     7976985\n",
      "4        Hungary     Europe     9749763\n",
      "\n",
      "Linguagens Explodidas:\n",
      "Empty DataFrame\n",
      "Columns: [country, language]\n",
      "Index: []\n",
      "\n",
      "Moedas Explodidas:\n",
      "Empty DataFrame\n",
      "Columns: [country, currency]\n",
      "Index: []\n",
      "\n",
      "Dados Stack:\n",
      "country                  \n",
      "South Georgia  continent     Antarctic\n",
      "               population           30\n",
      "Grenada        continent      Americas\n",
      "               population       112519\n",
      "Switzerland    continent        Europe\n",
      "dtype: object\n",
      "\n",
      "Dados Unstack:\n",
      "               continent population\n",
      "country                            \n",
      "South Georgia  Antarctic         30\n",
      "Grenada         Americas     112519\n",
      "Switzerland       Europe    8654622\n",
      "Sierra Leone      Africa    7976985\n",
      "Hungary           Europe    9749763\n"
     ]
    }
   ],
   "source": [
    "import requests\n",
    "import pandas as pd\n",
    "import numpy as np\n",
    "from plyer import notification\n",
    "\n",
    "# Função para exibir alertas\n",
    "def alerta(titulo, mensagem):\n",
    "    notification.notify(\n",
    "        title=titulo,\n",
    "        message=mensagem,\n",
    "        app_name=\"API Data Wrangling\",\n",
    "        timeout=10\n",
    "    )\n",
    "\n",
    "# URL da API Rest Countries\n",
    "url = \"https://restcountries.com/v3.1/all\"\n",
    "\n",
    "try:\n",
    "    # Extração de dados da API\n",
    "    response = requests.get(url)\n",
    "    if response.status_code == 200:\n",
    "        data = response.json()\n",
    "    else:\n",
    "        alerta(\"Erro na API\", f\"Código de status {response.status_code}\")\n",
    "        exit()\n",
    "\n",
    "    # Transformando dados em DataFrame\n",
    "    df = pd.json_normalize(data)\n",
    "\n",
    "    # 1. Ajuste de nomes de colunas\n",
    "    df.columns = [col.lower().replace(\".\", \"_\").replace(\" \", \"_\") for col in df.columns]\n",
    "\n",
    "    # Garantir que as colunas de interesse estejam presentes\n",
    "    colunas_interesse = [\n",
    "        \"name_common\",  # Nome do país\n",
    "        \"region\",  # Continente\n",
    "        \"population\",  # População\n",
    "        \"languages\",  # Línguas\n",
    "        \"currencies\"  # Moedas\n",
    "    ]\n",
    "\n",
    "    colunas_disponiveis = [col for col in colunas_interesse if col in df.columns]\n",
    "\n",
    "    # Selecionar apenas as colunas disponíveis\n",
    "    df = df[colunas_disponiveis]\n",
    "\n",
    "    # Renomear colunas para nomes mais amigáveis\n",
    "    df.rename(\n",
    "        columns={\n",
    "            \"name_common\": \"country\",\n",
    "            \"region\": \"continent\",\n",
    "            \"population\": \"population\",\n",
    "            \"languages\": \"languages\",\n",
    "            \"currencies\": \"currencies\"\n",
    "        },\n",
    "        inplace=True\n",
    "    )\n",
    "\n",
    "    # 2. Ajuste de valores ausentes\n",
    "    df[\"population\"] = df[\"population\"].fillna(0)  # Substituir população ausente por 0\n",
    "    df[\"continent\"] = df[\"continent\"].fillna(\"Unknown\")  # Substituir continente por 'Unknown'\n",
    "\n",
    "    # 3. Tratamento de 'languages' e 'currencies', caso existam\n",
    "    if \"languages\" in df.columns:\n",
    "        df[\"languages\"] = df[\"languages\"].apply(lambda x: x if isinstance(x, dict) else {})\n",
    "        df_languages = df.explode(\"languages\")\n",
    "        df_languages[\"language\"] = df_languages[\"languages\"].apply(lambda x: list(x.values())[0] if isinstance(x, dict) else None)\n",
    "    else:\n",
    "        df_languages = pd.DataFrame(columns=[\"country\", \"language\"])\n",
    "\n",
    "    if \"currencies\" in df.columns:\n",
    "        df[\"currencies\"] = df[\"currencies\"].apply(lambda x: x if isinstance(x, dict) else {})\n",
    "        df_currencies = df.explode(\"currencies\")\n",
    "        df_currencies[\"currency\"] = df_currencies[\"currencies\"].apply(lambda x: list(x.keys())[0] if isinstance(x, dict) else None)\n",
    "    else:\n",
    "        df_currencies = pd.DataFrame(columns=[\"country\", \"currency\"])\n",
    "\n",
    "    # 4. Stack e Unstack\n",
    "    df_stacked = df.set_index(\"country\").stack()\n",
    "    df_unstacked = df_stacked.unstack()\n",
    "\n",
    "    # Exibindo os resultados\n",
    "    print(\"Base Tratada:\")\n",
    "    print(df.head())\n",
    "\n",
    "    print(\"\\nLinguagens Explodidas:\")\n",
    "    print(df_languages.head())\n",
    "\n",
    "    print(\"\\nMoedas Explodidas:\")\n",
    "    print(df_currencies.head())\n",
    "\n",
    "    print(\"\\nDados Stack:\")\n",
    "    print(df_stacked.head())\n",
    "\n",
    "    print(\"\\nDados Unstack:\")\n",
    "    print(df_unstacked.head())\n",
    "\n",
    "except Exception as e:\n",
    "    alerta(\"Erro de Execução\", f\"Erro ao processar dados: {str(e)}\")\n"
   ]
  },
  {
   "cell_type": "markdown",
   "metadata": {},
   "source": [
    "Criar o Virtual Environment\n",
    "\n",
    "1.Abra o terminal na pasta do seu projeto.\n",
    "\n",
    "2.Execute o comando abaixo para criar um ambiente virtual chamado venv: python -m venv venv\n",
    "\n",
    "3.Ative o ambiente virtual: venv\\Scripts\\activate\n"
   ]
  },
  {
   "cell_type": "markdown",
   "metadata": {},
   "source": [
    "Instalar as Dependências do Projeto\n",
    "\n",
    "No ambiente virtual, instale as bibliotecas necessárias para o projeto:"
   ]
  },
  {
   "cell_type": "code",
   "execution_count": 3,
   "metadata": {},
   "outputs": [
    {
     "name": "stdout",
     "output_type": "stream",
     "text": [
      "Requirement already satisfied: pandas in c:\\users\\schle\\appdata\\local\\packages\\pythonsoftwarefoundation.python.3.9_qbz5n2kfra8p0\\localcache\\local-packages\\python39\\site-packages (2.2.3)\n",
      "Requirement already satisfied: requests in c:\\users\\schle\\appdata\\local\\packages\\pythonsoftwarefoundation.python.3.9_qbz5n2kfra8p0\\localcache\\local-packages\\python39\\site-packages (2.32.3)\n",
      "Requirement already satisfied: plyer in c:\\users\\schle\\appdata\\local\\packages\\pythonsoftwarefoundation.python.3.9_qbz5n2kfra8p0\\localcache\\local-packages\\python39\\site-packages (2.1.0)\n",
      "Requirement already satisfied: numpy>=1.22.4 in c:\\users\\schle\\appdata\\local\\packages\\pythonsoftwarefoundation.python.3.9_qbz5n2kfra8p0\\localcache\\local-packages\\python39\\site-packages (from pandas) (2.0.2)\n",
      "Requirement already satisfied: python-dateutil>=2.8.2 in c:\\users\\schle\\appdata\\local\\packages\\pythonsoftwarefoundation.python.3.9_qbz5n2kfra8p0\\localcache\\local-packages\\python39\\site-packages (from pandas) (2.9.0.post0)\n",
      "Requirement already satisfied: pytz>=2020.1 in c:\\users\\schle\\appdata\\local\\packages\\pythonsoftwarefoundation.python.3.9_qbz5n2kfra8p0\\localcache\\local-packages\\python39\\site-packages (from pandas) (2024.2)\n",
      "Requirement already satisfied: tzdata>=2022.7 in c:\\users\\schle\\appdata\\local\\packages\\pythonsoftwarefoundation.python.3.9_qbz5n2kfra8p0\\localcache\\local-packages\\python39\\site-packages (from pandas) (2024.2)\n",
      "Requirement already satisfied: charset-normalizer<4,>=2 in c:\\users\\schle\\appdata\\local\\packages\\pythonsoftwarefoundation.python.3.9_qbz5n2kfra8p0\\localcache\\local-packages\\python39\\site-packages (from requests) (3.4.0)\n",
      "Requirement already satisfied: idna<4,>=2.5 in c:\\users\\schle\\appdata\\local\\packages\\pythonsoftwarefoundation.python.3.9_qbz5n2kfra8p0\\localcache\\local-packages\\python39\\site-packages (from requests) (3.10)\n",
      "Requirement already satisfied: urllib3<3,>=1.21.1 in c:\\users\\schle\\appdata\\local\\packages\\pythonsoftwarefoundation.python.3.9_qbz5n2kfra8p0\\localcache\\local-packages\\python39\\site-packages (from requests) (2.2.3)\n",
      "Requirement already satisfied: certifi>=2017.4.17 in c:\\users\\schle\\appdata\\local\\packages\\pythonsoftwarefoundation.python.3.9_qbz5n2kfra8p0\\localcache\\local-packages\\python39\\site-packages (from requests) (2024.8.30)\n",
      "Requirement already satisfied: six>=1.5 in c:\\users\\schle\\appdata\\local\\packages\\pythonsoftwarefoundation.python.3.9_qbz5n2kfra8p0\\localcache\\local-packages\\python39\\site-packages (from python-dateutil>=2.8.2->pandas) (1.17.0)\n",
      "Note: you may need to restart the kernel to use updated packages.\n"
     ]
    }
   ],
   "source": [
    "pip install pandas requests plyer"
   ]
  },
  {
   "cell_type": "markdown",
   "metadata": {},
   "source": [
    "Se precisar de versões específicas:"
   ]
  },
  {
   "cell_type": "code",
   "execution_count": 4,
   "metadata": {},
   "outputs": [
    {
     "name": "stdout",
     "output_type": "stream",
     "text": [
      "Note: you may need to restart the kernel to use updated packages.Collecting pandas==1.5.0\n",
      "  Downloading pandas-1.5.0-cp39-cp39-win_amd64.whl.metadata (11 kB)\n",
      "Collecting requests==2.28.0\n",
      "  Downloading requests-2.28.0-py3-none-any.whl.metadata (4.6 kB)\n",
      "Collecting plyer==2.0.0\n",
      "  Downloading plyer-2.0.0-py2.py3-none-any.whl.metadata (30 kB)\n",
      "Requirement already satisfied: python-dateutil>=2.8.1 in c:\\users\\schle\\appdata\\local\\packages\\pythonsoftwarefoundation.python.3.9_qbz5n2kfra8p0\\localcache\\local-packages\\python39\\site-packages (from pandas==1.5.0) (2.9.0.post0)\n",
      "Requirement already satisfied: pytz>=2020.1 in c:\\users\\schle\\appdata\\local\\packages\\pythonsoftwarefoundation.python.3.9_qbz5n2kfra8p0\\localcache\\local-packages\\python39\\site-packages (from pandas==1.5.0) (2024.2)\n",
      "Requirement already satisfied: numpy>=1.20.3 in c:\\users\\schle\\appdata\\local\\packages\\pythonsoftwarefoundation.python.3.9_qbz5n2kfra8p0\\localcache\\local-packages\\python39\\site-packages (from pandas==1.5.0) (2.0.2)\n",
      "Collecting charset-normalizer~=2.0.0 (from requests==2.28.0)\n",
      "  Downloading charset_normalizer-2.0.12-py3-none-any.whl.metadata (11 kB)\n",
      "Requirement already satisfied: idna<4,>=2.5 in c:\\users\\schle\\appdata\\local\\packages\\pythonsoftwarefoundation.python.3.9_qbz5n2kfra8p0\\localcache\\local-packages\\python39\\site-packages (from requests==2.28.0) (3.10)\n",
      "Collecting urllib3<1.27,>=1.21.1 (from requests==2.28.0)\n",
      "  Downloading urllib3-1.26.20-py2.py3-none-any.whl.metadata (50 kB)\n",
      "Requirement already satisfied: certifi>=2017.4.17 in c:\\users\\schle\\appdata\\local\\packages\\pythonsoftwarefoundation.python.3.9_qbz5n2kfra8p0\\localcache\\local-packages\\python39\\site-packages (from requests==2.28.0) (2024.8.30)\n",
      "Requirement already satisfied: six>=1.5 in c:\\users\\schle\\appdata\\local\\packages\\pythonsoftwarefoundation.python.3.9_qbz5n2kfra8p0\\localcache\\local-packages\\python39\\site-packages (from python-dateutil>=2.8.1->pandas==1.5.0) (1.17.0)\n",
      "Downloading pandas-1.5.0-cp39-cp39-win_amd64.whl (10.9 MB)\n",
      "   ---------------------------------------- 0.0/10.9 MB ? eta -:--:--\n",
      "   - -------------------------------------- 0.5/10.9 MB 3.4 MB/s eta 0:00:04\n",
      "   ---- ----------------------------------- 1.3/10.9 MB 3.7 MB/s eta 0:00:03\n",
      "   --------- ------------------------------ 2.6/10.9 MB 4.7 MB/s eta 0:00:02\n",
      "   ---------------- ----------------------- 4.5/10.9 MB 6.0 MB/s eta 0:00:02\n",
      "   ------------------------ --------------- 6.8/10.9 MB 7.2 MB/s eta 0:00:01\n",
      "   --------------------------------- ------ 9.2/10.9 MB 8.0 MB/s eta 0:00:01\n",
      "   ---------------------------------------- 10.9/10.9 MB 8.3 MB/s eta 0:00:00\n",
      "Downloading requests-2.28.0-py3-none-any.whl (62 kB)\n",
      "Downloading plyer-2.0.0-py2.py3-none-any.whl (131 kB)\n",
      "Downloading charset_normalizer-2.0.12-py3-none-any.whl (39 kB)\n",
      "Downloading urllib3-1.26.20-py2.py3-none-any.whl (144 kB)\n",
      "Installing collected packages: plyer, urllib3, charset-normalizer, requests, pandas\n",
      "  Attempting uninstall: plyer\n",
      "    Found existing installation: plyer 2.1.0\n",
      "    Uninstalling plyer-2.1.0:\n",
      "      Successfully uninstalled plyer-2.1.0\n",
      "  Attempting uninstall: urllib3\n",
      "    Found existing installation: urllib3 2.2.3\n",
      "    Uninstalling urllib3-2.2.3:\n",
      "      Successfully uninstalled urllib3-2.2.3\n",
      "  Attempting uninstall: charset-normalizer\n",
      "    Found existing installation: charset-normalizer 3.4.0\n",
      "    Uninstalling charset-normalizer-3.4.0:\n",
      "      Successfully uninstalled charset-normalizer-3.4.0\n",
      "  Attempting uninstall: requests\n",
      "    Found existing installation: requests 2.32.3\n",
      "    Uninstalling requests-2.32.3:\n",
      "      Successfully uninstalled requests-2.32.3\n",
      "  Attempting uninstall: pandas\n",
      "    Found existing installation: pandas 2.2.3\n",
      "    Uninstalling pandas-2.2.3:\n",
      "      Successfully uninstalled pandas-2.2.3\n",
      "Successfully installed charset-normalizer-2.0.12 pandas-1.5.0 plyer-2.0.0 requests-2.28.0 urllib3-1.26.20\n",
      "\n"
     ]
    },
    {
     "name": "stderr",
     "output_type": "stream",
     "text": [
      "  WARNING: Failed to remove contents in a temporary directory 'C:\\Users\\schle\\AppData\\Local\\Packages\\PythonSoftwareFoundation.Python.3.9_qbz5n2kfra8p0\\LocalCache\\local-packages\\Python39\\site-packages\\~harset_normalizer'.\n",
      "  You can safely remove it manually.\n",
      "  WARNING: Failed to remove contents in a temporary directory 'C:\\Users\\schle\\AppData\\Local\\Packages\\PythonSoftwareFoundation.Python.3.9_qbz5n2kfra8p0\\LocalCache\\local-packages\\Python39\\site-packages\\~andas.libs'.\n",
      "  You can safely remove it manually.\n",
      "  WARNING: Failed to remove contents in a temporary directory 'C:\\Users\\schle\\AppData\\Local\\Packages\\PythonSoftwareFoundation.Python.3.9_qbz5n2kfra8p0\\LocalCache\\local-packages\\Python39\\site-packages\\~andas'.\n",
      "  You can safely remove it manually.\n",
      "ERROR: pip's dependency resolver does not currently take into account all the packages that are installed. This behaviour is the source of the following dependency conflicts.\n",
      "tensorflow-intel 2.18.0 requires ml-dtypes<0.5.0,>=0.4.0, but you have ml-dtypes 0.5.0 which is incompatible.\n",
      "yfinance 0.2.50 requires requests>=2.31, but you have requests 2.28.0 which is incompatible.\n"
     ]
    }
   ],
   "source": [
    "pip install pandas==1.5.0 requests==2.28.0 plyer==2.0.0"
   ]
  },
  {
   "cell_type": "markdown",
   "metadata": {},
   "source": [
    "Salvando as versões utilizadas no arquivo requirements.txt:"
   ]
  },
  {
   "cell_type": "code",
   "execution_count": 5,
   "metadata": {},
   "outputs": [
    {
     "name": "stdout",
     "output_type": "stream",
     "text": [
      "Note: you may need to restart the kernel to use updated packages.\n"
     ]
    }
   ],
   "source": [
    "pip freeze > requirements.txt"
   ]
  }
 ],
 "metadata": {
  "kernelspec": {
   "display_name": "Python 3",
   "language": "python",
   "name": "python3"
  },
  "language_info": {
   "codemirror_mode": {
    "name": "ipython",
    "version": 3
   },
   "file_extension": ".py",
   "mimetype": "text/x-python",
   "name": "python",
   "nbconvert_exporter": "python",
   "pygments_lexer": "ipython3",
   "version": "3.9.13"
  }
 },
 "nbformat": 4,
 "nbformat_minor": 2
}
